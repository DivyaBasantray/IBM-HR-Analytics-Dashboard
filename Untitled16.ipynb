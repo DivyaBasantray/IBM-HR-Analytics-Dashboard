{
 "cells": [
  {
   "cell_type": "code",
   "execution_count": 4,
   "id": "294a8821-ce57-4836-aed6-4dba7148e0cf",
   "metadata": {},
   "outputs": [],
   "source": [
    "# importing all the libraries\n",
    "%matplotlib inline\n",
    "import pandas as pd\n",
    "import numpy as np\n",
    "import seaborn as sns\n",
    "import matplotlib\n",
    "import matplotlib.pyplot as plt"
   ]
  },
  {
   "cell_type": "code",
   "execution_count": 5,
   "id": "3612d989-05f4-4d17-a8f8-7d13968cc6ad",
   "metadata": {},
   "outputs": [],
   "source": [
    "# setting options for easy reading of the output\n",
    "pd.set_option('display.max_columns',200)\n",
    "pd.set_option('display.width',120)\n",
    "pd.set_option('display.max_colwidth',200)"
   ]
  },
  {
   "cell_type": "code",
   "execution_count": 6,
   "id": "90477bca-4d51-4578-8621-3d09bef5af04",
   "metadata": {},
   "outputs": [
    {
     "name": "stdout",
     "output_type": "stream",
     "text": [
      "pandas 2.3.0 numpy 2.3.0 matplotlib 3.10.3\n"
     ]
    }
   ],
   "source": [
    "# show versions so that we know what we're running\n",
    "print(\"pandas\", pd.__version__, \"numpy\", np.__version__, \"matplotlib\", matplotlib.__version__)"
   ]
  },
  {
   "cell_type": "code",
   "execution_count": 7,
   "id": "67119b08-9011-4d07-81b1-a8224455c40b",
   "metadata": {},
   "outputs": [
    {
     "data": {
      "text/html": [
       "<div>\n",
       "<style scoped>\n",
       "    .dataframe tbody tr th:only-of-type {\n",
       "        vertical-align: middle;\n",
       "    }\n",
       "\n",
       "    .dataframe tbody tr th {\n",
       "        vertical-align: top;\n",
       "    }\n",
       "\n",
       "    .dataframe thead th {\n",
       "        text-align: right;\n",
       "    }\n",
       "</style>\n",
       "<table border=\"1\" class=\"dataframe\">\n",
       "  <thead>\n",
       "    <tr style=\"text-align: right;\">\n",
       "      <th></th>\n",
       "      <th>Age</th>\n",
       "      <th>Attrition</th>\n",
       "      <th>BusinessTravel</th>\n",
       "      <th>DailyRate</th>\n",
       "      <th>Department</th>\n",
       "      <th>DistanceFromHome</th>\n",
       "      <th>Education</th>\n",
       "      <th>EducationField</th>\n",
       "      <th>EmployeeNumber</th>\n",
       "      <th>EnvironmentSatisfaction</th>\n",
       "      <th>Gender</th>\n",
       "      <th>HourlyRate</th>\n",
       "      <th>JobInvolvement</th>\n",
       "      <th>JobLevel</th>\n",
       "      <th>JobRole</th>\n",
       "      <th>JobSatisfaction</th>\n",
       "      <th>MaritalStatus</th>\n",
       "      <th>MonthlyIncome</th>\n",
       "      <th>MonthlyRate</th>\n",
       "      <th>NumCompaniesWorked</th>\n",
       "      <th>OverTime</th>\n",
       "      <th>PercentSalaryHike</th>\n",
       "      <th>PerformanceRating</th>\n",
       "      <th>RelationshipSatisfaction</th>\n",
       "      <th>StockOptionLevel</th>\n",
       "      <th>TotalWorkingYears</th>\n",
       "      <th>TrainingTimesLastYear</th>\n",
       "      <th>WorkLifeBalance</th>\n",
       "      <th>YearsAtCompany</th>\n",
       "      <th>YearsInCurrentRole</th>\n",
       "      <th>YearsSinceLastPromotion</th>\n",
       "      <th>YearsWithCurrManager</th>\n",
       "    </tr>\n",
       "  </thead>\n",
       "  <tbody>\n",
       "    <tr>\n",
       "      <th>0</th>\n",
       "      <td>41</td>\n",
       "      <td>Yes</td>\n",
       "      <td>Travel Rarely</td>\n",
       "      <td>1102</td>\n",
       "      <td>Sales</td>\n",
       "      <td>1</td>\n",
       "      <td>2</td>\n",
       "      <td>Life Sciences</td>\n",
       "      <td>1</td>\n",
       "      <td>2</td>\n",
       "      <td>Female</td>\n",
       "      <td>94</td>\n",
       "      <td>3</td>\n",
       "      <td>2</td>\n",
       "      <td>Sales Executive</td>\n",
       "      <td>4</td>\n",
       "      <td>Single</td>\n",
       "      <td>5993</td>\n",
       "      <td>19479</td>\n",
       "      <td>8</td>\n",
       "      <td>Yes</td>\n",
       "      <td>11</td>\n",
       "      <td>3</td>\n",
       "      <td>1</td>\n",
       "      <td>0</td>\n",
       "      <td>8</td>\n",
       "      <td>0</td>\n",
       "      <td>1</td>\n",
       "      <td>6</td>\n",
       "      <td>4</td>\n",
       "      <td>0</td>\n",
       "      <td>5</td>\n",
       "    </tr>\n",
       "    <tr>\n",
       "      <th>1</th>\n",
       "      <td>49</td>\n",
       "      <td>No</td>\n",
       "      <td>Travel Frequently</td>\n",
       "      <td>279</td>\n",
       "      <td>Research &amp; Development</td>\n",
       "      <td>8</td>\n",
       "      <td>1</td>\n",
       "      <td>Life Sciences</td>\n",
       "      <td>2</td>\n",
       "      <td>3</td>\n",
       "      <td>Male</td>\n",
       "      <td>61</td>\n",
       "      <td>2</td>\n",
       "      <td>2</td>\n",
       "      <td>Research Scientist</td>\n",
       "      <td>2</td>\n",
       "      <td>Married</td>\n",
       "      <td>5130</td>\n",
       "      <td>24907</td>\n",
       "      <td>1</td>\n",
       "      <td>No</td>\n",
       "      <td>23</td>\n",
       "      <td>4</td>\n",
       "      <td>4</td>\n",
       "      <td>1</td>\n",
       "      <td>10</td>\n",
       "      <td>3</td>\n",
       "      <td>3</td>\n",
       "      <td>10</td>\n",
       "      <td>7</td>\n",
       "      <td>1</td>\n",
       "      <td>7</td>\n",
       "    </tr>\n",
       "    <tr>\n",
       "      <th>2</th>\n",
       "      <td>37</td>\n",
       "      <td>Yes</td>\n",
       "      <td>Travel Rarely</td>\n",
       "      <td>1373</td>\n",
       "      <td>Research &amp; Development</td>\n",
       "      <td>2</td>\n",
       "      <td>2</td>\n",
       "      <td>Other</td>\n",
       "      <td>4</td>\n",
       "      <td>4</td>\n",
       "      <td>Male</td>\n",
       "      <td>92</td>\n",
       "      <td>2</td>\n",
       "      <td>1</td>\n",
       "      <td>Laboratory Technician</td>\n",
       "      <td>3</td>\n",
       "      <td>Single</td>\n",
       "      <td>2090</td>\n",
       "      <td>2396</td>\n",
       "      <td>6</td>\n",
       "      <td>Yes</td>\n",
       "      <td>15</td>\n",
       "      <td>3</td>\n",
       "      <td>2</td>\n",
       "      <td>0</td>\n",
       "      <td>7</td>\n",
       "      <td>3</td>\n",
       "      <td>3</td>\n",
       "      <td>0</td>\n",
       "      <td>0</td>\n",
       "      <td>0</td>\n",
       "      <td>0</td>\n",
       "    </tr>\n",
       "    <tr>\n",
       "      <th>3</th>\n",
       "      <td>33</td>\n",
       "      <td>No</td>\n",
       "      <td>Travel Frequently</td>\n",
       "      <td>1392</td>\n",
       "      <td>Research &amp; Development</td>\n",
       "      <td>3</td>\n",
       "      <td>4</td>\n",
       "      <td>Life Sciences</td>\n",
       "      <td>5</td>\n",
       "      <td>4</td>\n",
       "      <td>Female</td>\n",
       "      <td>56</td>\n",
       "      <td>3</td>\n",
       "      <td>1</td>\n",
       "      <td>Research Scientist</td>\n",
       "      <td>3</td>\n",
       "      <td>Married</td>\n",
       "      <td>2909</td>\n",
       "      <td>23159</td>\n",
       "      <td>1</td>\n",
       "      <td>Yes</td>\n",
       "      <td>11</td>\n",
       "      <td>3</td>\n",
       "      <td>3</td>\n",
       "      <td>0</td>\n",
       "      <td>8</td>\n",
       "      <td>3</td>\n",
       "      <td>3</td>\n",
       "      <td>8</td>\n",
       "      <td>7</td>\n",
       "      <td>3</td>\n",
       "      <td>0</td>\n",
       "    </tr>\n",
       "    <tr>\n",
       "      <th>4</th>\n",
       "      <td>27</td>\n",
       "      <td>No</td>\n",
       "      <td>Travel Rarely</td>\n",
       "      <td>591</td>\n",
       "      <td>Research &amp; Development</td>\n",
       "      <td>2</td>\n",
       "      <td>1</td>\n",
       "      <td>Medical</td>\n",
       "      <td>7</td>\n",
       "      <td>1</td>\n",
       "      <td>Male</td>\n",
       "      <td>40</td>\n",
       "      <td>3</td>\n",
       "      <td>1</td>\n",
       "      <td>Laboratory Technician</td>\n",
       "      <td>2</td>\n",
       "      <td>Married</td>\n",
       "      <td>3468</td>\n",
       "      <td>16632</td>\n",
       "      <td>9</td>\n",
       "      <td>No</td>\n",
       "      <td>12</td>\n",
       "      <td>3</td>\n",
       "      <td>4</td>\n",
       "      <td>1</td>\n",
       "      <td>6</td>\n",
       "      <td>3</td>\n",
       "      <td>3</td>\n",
       "      <td>2</td>\n",
       "      <td>2</td>\n",
       "      <td>2</td>\n",
       "      <td>2</td>\n",
       "    </tr>\n",
       "  </tbody>\n",
       "</table>\n",
       "</div>"
      ],
      "text/plain": [
       "   Age Attrition     BusinessTravel  DailyRate              Department  DistanceFromHome  Education EducationField  \\\n",
       "0   41       Yes      Travel Rarely       1102                   Sales                 1          2  Life Sciences   \n",
       "1   49        No  Travel Frequently        279  Research & Development                 8          1  Life Sciences   \n",
       "2   37       Yes      Travel Rarely       1373  Research & Development                 2          2          Other   \n",
       "3   33        No  Travel Frequently       1392  Research & Development                 3          4  Life Sciences   \n",
       "4   27        No      Travel Rarely        591  Research & Development                 2          1        Medical   \n",
       "\n",
       "   EmployeeNumber  EnvironmentSatisfaction  Gender  HourlyRate  JobInvolvement  JobLevel                JobRole  \\\n",
       "0               1                        2  Female          94               3         2        Sales Executive   \n",
       "1               2                        3    Male          61               2         2     Research Scientist   \n",
       "2               4                        4    Male          92               2         1  Laboratory Technician   \n",
       "3               5                        4  Female          56               3         1     Research Scientist   \n",
       "4               7                        1    Male          40               3         1  Laboratory Technician   \n",
       "\n",
       "   JobSatisfaction MaritalStatus  MonthlyIncome  MonthlyRate  NumCompaniesWorked OverTime  PercentSalaryHike  \\\n",
       "0                4        Single           5993        19479                   8      Yes                 11   \n",
       "1                2       Married           5130        24907                   1       No                 23   \n",
       "2                3        Single           2090         2396                   6      Yes                 15   \n",
       "3                3       Married           2909        23159                   1      Yes                 11   \n",
       "4                2       Married           3468        16632                   9       No                 12   \n",
       "\n",
       "   PerformanceRating  RelationshipSatisfaction  StockOptionLevel  TotalWorkingYears  TrainingTimesLastYear  \\\n",
       "0                  3                         1                 0                  8                      0   \n",
       "1                  4                         4                 1                 10                      3   \n",
       "2                  3                         2                 0                  7                      3   \n",
       "3                  3                         3                 0                  8                      3   \n",
       "4                  3                         4                 1                  6                      3   \n",
       "\n",
       "   WorkLifeBalance  YearsAtCompany  YearsInCurrentRole  YearsSinceLastPromotion  YearsWithCurrManager  \n",
       "0                1               6                   4                        0                     5  \n",
       "1                3              10                   7                        1                     7  \n",
       "2                3               0                   0                        0                     0  \n",
       "3                3               8                   7                        3                     0  \n",
       "4                3               2                   2                        2                     2  "
      ]
     },
     "execution_count": 7,
     "metadata": {},
     "output_type": "execute_result"
    }
   ],
   "source": [
    "#  read the file with top 5 rows\n",
    "df = pd.read_csv(\"Cleaned ibm_hr_attrition from MYSQL New1.csv\")\n",
    "df.head()"
   ]
  },
  {
   "cell_type": "code",
   "execution_count": 9,
   "id": "8ce879f8-1a4a-498d-927b-f8d7850f07df",
   "metadata": {},
   "outputs": [
    {
     "name": "stdout",
     "output_type": "stream",
     "text": [
      "<class 'pandas.core.frame.DataFrame'>\n",
      "RangeIndex: 1470 entries, 0 to 1469\n",
      "Data columns (total 32 columns):\n",
      " #   Column                    Non-Null Count  Dtype \n",
      "---  ------                    --------------  ----- \n",
      " 0   Age                       1470 non-null   int64 \n",
      " 1   Attrition                 1470 non-null   object\n",
      " 2   BusinessTravel            1470 non-null   object\n",
      " 3   DailyRate                 1470 non-null   int64 \n",
      " 4   Department                1470 non-null   object\n",
      " 5   DistanceFromHome          1470 non-null   int64 \n",
      " 6   Education                 1470 non-null   int64 \n",
      " 7   EducationField            1470 non-null   object\n",
      " 8   EmployeeNumber            1470 non-null   int64 \n",
      " 9   EnvironmentSatisfaction   1470 non-null   int64 \n",
      " 10  Gender                    1470 non-null   object\n",
      " 11  HourlyRate                1470 non-null   int64 \n",
      " 12  JobInvolvement            1470 non-null   int64 \n",
      " 13  JobLevel                  1470 non-null   int64 \n",
      " 14  JobRole                   1470 non-null   object\n",
      " 15  JobSatisfaction           1470 non-null   int64 \n",
      " 16  MaritalStatus             1470 non-null   object\n",
      " 17  MonthlyIncome             1470 non-null   int64 \n",
      " 18  MonthlyRate               1470 non-null   int64 \n",
      " 19  NumCompaniesWorked        1470 non-null   int64 \n",
      " 20  OverTime                  1470 non-null   object\n",
      " 21  PercentSalaryHike         1470 non-null   int64 \n",
      " 22  PerformanceRating         1470 non-null   int64 \n",
      " 23  RelationshipSatisfaction  1470 non-null   int64 \n",
      " 24  StockOptionLevel          1470 non-null   int64 \n",
      " 25  TotalWorkingYears         1470 non-null   int64 \n",
      " 26  TrainingTimesLastYear     1470 non-null   int64 \n",
      " 27  WorkLifeBalance           1470 non-null   int64 \n",
      " 28  YearsAtCompany            1470 non-null   int64 \n",
      " 29  YearsInCurrentRole        1470 non-null   int64 \n",
      " 30  YearsSinceLastPromotion   1470 non-null   int64 \n",
      " 31  YearsWithCurrManager      1470 non-null   int64 \n",
      "dtypes: int64(24), object(8)\n",
      "memory usage: 367.6+ KB\n"
     ]
    }
   ],
   "source": [
    "#  information of the dataset\n",
    "df.info()"
   ]
  },
  {
   "cell_type": "code",
   "execution_count": 10,
   "id": "595ab4a6-7b8e-40de-8000-d5aacd6a656a",
   "metadata": {},
   "outputs": [
    {
     "data": {
      "text/html": [
       "<div>\n",
       "<style scoped>\n",
       "    .dataframe tbody tr th:only-of-type {\n",
       "        vertical-align: middle;\n",
       "    }\n",
       "\n",
       "    .dataframe tbody tr th {\n",
       "        vertical-align: top;\n",
       "    }\n",
       "\n",
       "    .dataframe thead th {\n",
       "        text-align: right;\n",
       "    }\n",
       "</style>\n",
       "<table border=\"1\" class=\"dataframe\">\n",
       "  <thead>\n",
       "    <tr style=\"text-align: right;\">\n",
       "      <th></th>\n",
       "      <th>Age</th>\n",
       "      <th>Attrition</th>\n",
       "      <th>BusinessTravel</th>\n",
       "      <th>DailyRate</th>\n",
       "      <th>Department</th>\n",
       "      <th>DistanceFromHome</th>\n",
       "      <th>Education</th>\n",
       "      <th>EducationField</th>\n",
       "      <th>EmployeeNumber</th>\n",
       "      <th>EnvironmentSatisfaction</th>\n",
       "      <th>Gender</th>\n",
       "      <th>HourlyRate</th>\n",
       "      <th>JobInvolvement</th>\n",
       "      <th>JobLevel</th>\n",
       "      <th>JobRole</th>\n",
       "      <th>JobSatisfaction</th>\n",
       "      <th>MaritalStatus</th>\n",
       "      <th>MonthlyIncome</th>\n",
       "      <th>MonthlyRate</th>\n",
       "      <th>NumCompaniesWorked</th>\n",
       "      <th>OverTime</th>\n",
       "      <th>PercentSalaryHike</th>\n",
       "      <th>PerformanceRating</th>\n",
       "      <th>RelationshipSatisfaction</th>\n",
       "      <th>StockOptionLevel</th>\n",
       "      <th>TotalWorkingYears</th>\n",
       "      <th>TrainingTimesLastYear</th>\n",
       "      <th>WorkLifeBalance</th>\n",
       "      <th>YearsAtCompany</th>\n",
       "      <th>YearsInCurrentRole</th>\n",
       "      <th>YearsSinceLastPromotion</th>\n",
       "      <th>YearsWithCurrManager</th>\n",
       "    </tr>\n",
       "  </thead>\n",
       "  <tbody>\n",
       "    <tr>\n",
       "      <th>0</th>\n",
       "      <td>41</td>\n",
       "      <td>Yes</td>\n",
       "      <td>Travel Rarely</td>\n",
       "      <td>1102</td>\n",
       "      <td>Sales</td>\n",
       "      <td>1</td>\n",
       "      <td>2</td>\n",
       "      <td>Life Sciences</td>\n",
       "      <td>1</td>\n",
       "      <td>2</td>\n",
       "      <td>Female</td>\n",
       "      <td>94</td>\n",
       "      <td>3</td>\n",
       "      <td>2</td>\n",
       "      <td>Sales Executive</td>\n",
       "      <td>4</td>\n",
       "      <td>Single</td>\n",
       "      <td>5993</td>\n",
       "      <td>19479</td>\n",
       "      <td>8</td>\n",
       "      <td>Yes</td>\n",
       "      <td>11</td>\n",
       "      <td>3</td>\n",
       "      <td>1</td>\n",
       "      <td>0</td>\n",
       "      <td>8</td>\n",
       "      <td>0</td>\n",
       "      <td>1</td>\n",
       "      <td>6</td>\n",
       "      <td>4</td>\n",
       "      <td>0</td>\n",
       "      <td>5</td>\n",
       "    </tr>\n",
       "    <tr>\n",
       "      <th>1</th>\n",
       "      <td>49</td>\n",
       "      <td>No</td>\n",
       "      <td>Travel Frequently</td>\n",
       "      <td>279</td>\n",
       "      <td>Research &amp; Development</td>\n",
       "      <td>8</td>\n",
       "      <td>1</td>\n",
       "      <td>Life Sciences</td>\n",
       "      <td>2</td>\n",
       "      <td>3</td>\n",
       "      <td>Male</td>\n",
       "      <td>61</td>\n",
       "      <td>2</td>\n",
       "      <td>2</td>\n",
       "      <td>Research Scientist</td>\n",
       "      <td>2</td>\n",
       "      <td>Married</td>\n",
       "      <td>5130</td>\n",
       "      <td>24907</td>\n",
       "      <td>1</td>\n",
       "      <td>No</td>\n",
       "      <td>23</td>\n",
       "      <td>4</td>\n",
       "      <td>4</td>\n",
       "      <td>1</td>\n",
       "      <td>10</td>\n",
       "      <td>3</td>\n",
       "      <td>3</td>\n",
       "      <td>10</td>\n",
       "      <td>7</td>\n",
       "      <td>1</td>\n",
       "      <td>7</td>\n",
       "    </tr>\n",
       "    <tr>\n",
       "      <th>2</th>\n",
       "      <td>37</td>\n",
       "      <td>Yes</td>\n",
       "      <td>Travel Rarely</td>\n",
       "      <td>1373</td>\n",
       "      <td>Research &amp; Development</td>\n",
       "      <td>2</td>\n",
       "      <td>2</td>\n",
       "      <td>Other</td>\n",
       "      <td>4</td>\n",
       "      <td>4</td>\n",
       "      <td>Male</td>\n",
       "      <td>92</td>\n",
       "      <td>2</td>\n",
       "      <td>1</td>\n",
       "      <td>Laboratory Technician</td>\n",
       "      <td>3</td>\n",
       "      <td>Single</td>\n",
       "      <td>2090</td>\n",
       "      <td>2396</td>\n",
       "      <td>6</td>\n",
       "      <td>Yes</td>\n",
       "      <td>15</td>\n",
       "      <td>3</td>\n",
       "      <td>2</td>\n",
       "      <td>0</td>\n",
       "      <td>7</td>\n",
       "      <td>3</td>\n",
       "      <td>3</td>\n",
       "      <td>0</td>\n",
       "      <td>0</td>\n",
       "      <td>0</td>\n",
       "      <td>0</td>\n",
       "    </tr>\n",
       "    <tr>\n",
       "      <th>3</th>\n",
       "      <td>33</td>\n",
       "      <td>No</td>\n",
       "      <td>Travel Frequently</td>\n",
       "      <td>1392</td>\n",
       "      <td>Research &amp; Development</td>\n",
       "      <td>3</td>\n",
       "      <td>4</td>\n",
       "      <td>Life Sciences</td>\n",
       "      <td>5</td>\n",
       "      <td>4</td>\n",
       "      <td>Female</td>\n",
       "      <td>56</td>\n",
       "      <td>3</td>\n",
       "      <td>1</td>\n",
       "      <td>Research Scientist</td>\n",
       "      <td>3</td>\n",
       "      <td>Married</td>\n",
       "      <td>2909</td>\n",
       "      <td>23159</td>\n",
       "      <td>1</td>\n",
       "      <td>Yes</td>\n",
       "      <td>11</td>\n",
       "      <td>3</td>\n",
       "      <td>3</td>\n",
       "      <td>0</td>\n",
       "      <td>8</td>\n",
       "      <td>3</td>\n",
       "      <td>3</td>\n",
       "      <td>8</td>\n",
       "      <td>7</td>\n",
       "      <td>3</td>\n",
       "      <td>0</td>\n",
       "    </tr>\n",
       "    <tr>\n",
       "      <th>4</th>\n",
       "      <td>27</td>\n",
       "      <td>No</td>\n",
       "      <td>Travel Rarely</td>\n",
       "      <td>591</td>\n",
       "      <td>Research &amp; Development</td>\n",
       "      <td>2</td>\n",
       "      <td>1</td>\n",
       "      <td>Medical</td>\n",
       "      <td>7</td>\n",
       "      <td>1</td>\n",
       "      <td>Male</td>\n",
       "      <td>40</td>\n",
       "      <td>3</td>\n",
       "      <td>1</td>\n",
       "      <td>Laboratory Technician</td>\n",
       "      <td>2</td>\n",
       "      <td>Married</td>\n",
       "      <td>3468</td>\n",
       "      <td>16632</td>\n",
       "      <td>9</td>\n",
       "      <td>No</td>\n",
       "      <td>12</td>\n",
       "      <td>3</td>\n",
       "      <td>4</td>\n",
       "      <td>1</td>\n",
       "      <td>6</td>\n",
       "      <td>3</td>\n",
       "      <td>3</td>\n",
       "      <td>2</td>\n",
       "      <td>2</td>\n",
       "      <td>2</td>\n",
       "      <td>2</td>\n",
       "    </tr>\n",
       "    <tr>\n",
       "      <th>5</th>\n",
       "      <td>32</td>\n",
       "      <td>No</td>\n",
       "      <td>Travel Frequently</td>\n",
       "      <td>1005</td>\n",
       "      <td>Research &amp; Development</td>\n",
       "      <td>2</td>\n",
       "      <td>2</td>\n",
       "      <td>Life Sciences</td>\n",
       "      <td>8</td>\n",
       "      <td>4</td>\n",
       "      <td>Male</td>\n",
       "      <td>79</td>\n",
       "      <td>3</td>\n",
       "      <td>1</td>\n",
       "      <td>Laboratory Technician</td>\n",
       "      <td>4</td>\n",
       "      <td>Single</td>\n",
       "      <td>3068</td>\n",
       "      <td>11864</td>\n",
       "      <td>0</td>\n",
       "      <td>No</td>\n",
       "      <td>13</td>\n",
       "      <td>3</td>\n",
       "      <td>3</td>\n",
       "      <td>0</td>\n",
       "      <td>8</td>\n",
       "      <td>2</td>\n",
       "      <td>2</td>\n",
       "      <td>7</td>\n",
       "      <td>7</td>\n",
       "      <td>3</td>\n",
       "      <td>6</td>\n",
       "    </tr>\n",
       "    <tr>\n",
       "      <th>6</th>\n",
       "      <td>59</td>\n",
       "      <td>No</td>\n",
       "      <td>Travel Rarely</td>\n",
       "      <td>1324</td>\n",
       "      <td>Research &amp; Development</td>\n",
       "      <td>3</td>\n",
       "      <td>3</td>\n",
       "      <td>Medical</td>\n",
       "      <td>10</td>\n",
       "      <td>3</td>\n",
       "      <td>Female</td>\n",
       "      <td>81</td>\n",
       "      <td>4</td>\n",
       "      <td>1</td>\n",
       "      <td>Laboratory Technician</td>\n",
       "      <td>1</td>\n",
       "      <td>Married</td>\n",
       "      <td>2670</td>\n",
       "      <td>9964</td>\n",
       "      <td>4</td>\n",
       "      <td>Yes</td>\n",
       "      <td>20</td>\n",
       "      <td>4</td>\n",
       "      <td>1</td>\n",
       "      <td>3</td>\n",
       "      <td>12</td>\n",
       "      <td>3</td>\n",
       "      <td>2</td>\n",
       "      <td>1</td>\n",
       "      <td>0</td>\n",
       "      <td>0</td>\n",
       "      <td>0</td>\n",
       "    </tr>\n",
       "    <tr>\n",
       "      <th>7</th>\n",
       "      <td>30</td>\n",
       "      <td>No</td>\n",
       "      <td>Travel Rarely</td>\n",
       "      <td>1358</td>\n",
       "      <td>Research &amp; Development</td>\n",
       "      <td>24</td>\n",
       "      <td>1</td>\n",
       "      <td>Life Sciences</td>\n",
       "      <td>11</td>\n",
       "      <td>4</td>\n",
       "      <td>Male</td>\n",
       "      <td>67</td>\n",
       "      <td>3</td>\n",
       "      <td>1</td>\n",
       "      <td>Laboratory Technician</td>\n",
       "      <td>3</td>\n",
       "      <td>Divorced</td>\n",
       "      <td>2693</td>\n",
       "      <td>13335</td>\n",
       "      <td>1</td>\n",
       "      <td>No</td>\n",
       "      <td>22</td>\n",
       "      <td>4</td>\n",
       "      <td>2</td>\n",
       "      <td>1</td>\n",
       "      <td>1</td>\n",
       "      <td>2</td>\n",
       "      <td>3</td>\n",
       "      <td>1</td>\n",
       "      <td>0</td>\n",
       "      <td>0</td>\n",
       "      <td>0</td>\n",
       "    </tr>\n",
       "    <tr>\n",
       "      <th>8</th>\n",
       "      <td>38</td>\n",
       "      <td>No</td>\n",
       "      <td>Travel Frequently</td>\n",
       "      <td>216</td>\n",
       "      <td>Research &amp; Development</td>\n",
       "      <td>23</td>\n",
       "      <td>3</td>\n",
       "      <td>Life Sciences</td>\n",
       "      <td>12</td>\n",
       "      <td>4</td>\n",
       "      <td>Male</td>\n",
       "      <td>44</td>\n",
       "      <td>2</td>\n",
       "      <td>3</td>\n",
       "      <td>Manufacturing Director</td>\n",
       "      <td>3</td>\n",
       "      <td>Single</td>\n",
       "      <td>9526</td>\n",
       "      <td>8787</td>\n",
       "      <td>0</td>\n",
       "      <td>No</td>\n",
       "      <td>21</td>\n",
       "      <td>4</td>\n",
       "      <td>2</td>\n",
       "      <td>0</td>\n",
       "      <td>10</td>\n",
       "      <td>2</td>\n",
       "      <td>3</td>\n",
       "      <td>9</td>\n",
       "      <td>7</td>\n",
       "      <td>1</td>\n",
       "      <td>8</td>\n",
       "    </tr>\n",
       "    <tr>\n",
       "      <th>9</th>\n",
       "      <td>36</td>\n",
       "      <td>No</td>\n",
       "      <td>Travel Rarely</td>\n",
       "      <td>1299</td>\n",
       "      <td>Research &amp; Development</td>\n",
       "      <td>27</td>\n",
       "      <td>3</td>\n",
       "      <td>Medical</td>\n",
       "      <td>13</td>\n",
       "      <td>3</td>\n",
       "      <td>Male</td>\n",
       "      <td>94</td>\n",
       "      <td>3</td>\n",
       "      <td>2</td>\n",
       "      <td>Healthcare Representative</td>\n",
       "      <td>3</td>\n",
       "      <td>Married</td>\n",
       "      <td>5237</td>\n",
       "      <td>16577</td>\n",
       "      <td>6</td>\n",
       "      <td>No</td>\n",
       "      <td>13</td>\n",
       "      <td>3</td>\n",
       "      <td>2</td>\n",
       "      <td>2</td>\n",
       "      <td>17</td>\n",
       "      <td>3</td>\n",
       "      <td>2</td>\n",
       "      <td>7</td>\n",
       "      <td>7</td>\n",
       "      <td>7</td>\n",
       "      <td>7</td>\n",
       "    </tr>\n",
       "  </tbody>\n",
       "</table>\n",
       "</div>"
      ],
      "text/plain": [
       "   Age Attrition     BusinessTravel  DailyRate              Department  DistanceFromHome  Education EducationField  \\\n",
       "0   41       Yes      Travel Rarely       1102                   Sales                 1          2  Life Sciences   \n",
       "1   49        No  Travel Frequently        279  Research & Development                 8          1  Life Sciences   \n",
       "2   37       Yes      Travel Rarely       1373  Research & Development                 2          2          Other   \n",
       "3   33        No  Travel Frequently       1392  Research & Development                 3          4  Life Sciences   \n",
       "4   27        No      Travel Rarely        591  Research & Development                 2          1        Medical   \n",
       "5   32        No  Travel Frequently       1005  Research & Development                 2          2  Life Sciences   \n",
       "6   59        No      Travel Rarely       1324  Research & Development                 3          3        Medical   \n",
       "7   30        No      Travel Rarely       1358  Research & Development                24          1  Life Sciences   \n",
       "8   38        No  Travel Frequently        216  Research & Development                23          3  Life Sciences   \n",
       "9   36        No      Travel Rarely       1299  Research & Development                27          3        Medical   \n",
       "\n",
       "   EmployeeNumber  EnvironmentSatisfaction  Gender  HourlyRate  JobInvolvement  JobLevel                    JobRole  \\\n",
       "0               1                        2  Female          94               3         2            Sales Executive   \n",
       "1               2                        3    Male          61               2         2         Research Scientist   \n",
       "2               4                        4    Male          92               2         1      Laboratory Technician   \n",
       "3               5                        4  Female          56               3         1         Research Scientist   \n",
       "4               7                        1    Male          40               3         1      Laboratory Technician   \n",
       "5               8                        4    Male          79               3         1      Laboratory Technician   \n",
       "6              10                        3  Female          81               4         1      Laboratory Technician   \n",
       "7              11                        4    Male          67               3         1      Laboratory Technician   \n",
       "8              12                        4    Male          44               2         3     Manufacturing Director   \n",
       "9              13                        3    Male          94               3         2  Healthcare Representative   \n",
       "\n",
       "   JobSatisfaction MaritalStatus  MonthlyIncome  MonthlyRate  NumCompaniesWorked OverTime  PercentSalaryHike  \\\n",
       "0                4        Single           5993        19479                   8      Yes                 11   \n",
       "1                2       Married           5130        24907                   1       No                 23   \n",
       "2                3        Single           2090         2396                   6      Yes                 15   \n",
       "3                3       Married           2909        23159                   1      Yes                 11   \n",
       "4                2       Married           3468        16632                   9       No                 12   \n",
       "5                4        Single           3068        11864                   0       No                 13   \n",
       "6                1       Married           2670         9964                   4      Yes                 20   \n",
       "7                3      Divorced           2693        13335                   1       No                 22   \n",
       "8                3        Single           9526         8787                   0       No                 21   \n",
       "9                3       Married           5237        16577                   6       No                 13   \n",
       "\n",
       "   PerformanceRating  RelationshipSatisfaction  StockOptionLevel  TotalWorkingYears  TrainingTimesLastYear  \\\n",
       "0                  3                         1                 0                  8                      0   \n",
       "1                  4                         4                 1                 10                      3   \n",
       "2                  3                         2                 0                  7                      3   \n",
       "3                  3                         3                 0                  8                      3   \n",
       "4                  3                         4                 1                  6                      3   \n",
       "5                  3                         3                 0                  8                      2   \n",
       "6                  4                         1                 3                 12                      3   \n",
       "7                  4                         2                 1                  1                      2   \n",
       "8                  4                         2                 0                 10                      2   \n",
       "9                  3                         2                 2                 17                      3   \n",
       "\n",
       "   WorkLifeBalance  YearsAtCompany  YearsInCurrentRole  YearsSinceLastPromotion  YearsWithCurrManager  \n",
       "0                1               6                   4                        0                     5  \n",
       "1                3              10                   7                        1                     7  \n",
       "2                3               0                   0                        0                     0  \n",
       "3                3               8                   7                        3                     0  \n",
       "4                3               2                   2                        2                     2  \n",
       "5                2               7                   7                        3                     6  \n",
       "6                2               1                   0                        0                     0  \n",
       "7                3               1                   0                        0                     0  \n",
       "8                3               9                   7                        1                     8  \n",
       "9                2               7                   7                        7                     7  "
      ]
     },
     "execution_count": 10,
     "metadata": {},
     "output_type": "execute_result"
    }
   ],
   "source": [
    "#read the file with top 10 rows\n",
    "df.head(10)"
   ]
  },
  {
   "cell_type": "code",
   "execution_count": 11,
   "id": "351df1d1-b212-49cf-a55c-296a0662458a",
   "metadata": {},
   "outputs": [
    {
     "data": {
      "text/html": [
       "<div>\n",
       "<style scoped>\n",
       "    .dataframe tbody tr th:only-of-type {\n",
       "        vertical-align: middle;\n",
       "    }\n",
       "\n",
       "    .dataframe tbody tr th {\n",
       "        vertical-align: top;\n",
       "    }\n",
       "\n",
       "    .dataframe thead th {\n",
       "        text-align: right;\n",
       "    }\n",
       "</style>\n",
       "<table border=\"1\" class=\"dataframe\">\n",
       "  <thead>\n",
       "    <tr style=\"text-align: right;\">\n",
       "      <th></th>\n",
       "      <th>Age</th>\n",
       "      <th>DailyRate</th>\n",
       "      <th>DistanceFromHome</th>\n",
       "      <th>Education</th>\n",
       "      <th>EmployeeNumber</th>\n",
       "      <th>EnvironmentSatisfaction</th>\n",
       "      <th>HourlyRate</th>\n",
       "      <th>JobInvolvement</th>\n",
       "      <th>JobLevel</th>\n",
       "      <th>JobSatisfaction</th>\n",
       "      <th>MonthlyIncome</th>\n",
       "      <th>MonthlyRate</th>\n",
       "      <th>NumCompaniesWorked</th>\n",
       "      <th>PercentSalaryHike</th>\n",
       "      <th>PerformanceRating</th>\n",
       "      <th>RelationshipSatisfaction</th>\n",
       "      <th>StockOptionLevel</th>\n",
       "      <th>TotalWorkingYears</th>\n",
       "      <th>TrainingTimesLastYear</th>\n",
       "      <th>WorkLifeBalance</th>\n",
       "      <th>YearsAtCompany</th>\n",
       "      <th>YearsInCurrentRole</th>\n",
       "      <th>YearsSinceLastPromotion</th>\n",
       "      <th>YearsWithCurrManager</th>\n",
       "    </tr>\n",
       "  </thead>\n",
       "  <tbody>\n",
       "    <tr>\n",
       "      <th>count</th>\n",
       "      <td>1470.000000</td>\n",
       "      <td>1470.000000</td>\n",
       "      <td>1470.000000</td>\n",
       "      <td>1470.000000</td>\n",
       "      <td>1470.000000</td>\n",
       "      <td>1470.000000</td>\n",
       "      <td>1470.000000</td>\n",
       "      <td>1470.000000</td>\n",
       "      <td>1470.000000</td>\n",
       "      <td>1470.000000</td>\n",
       "      <td>1470.000000</td>\n",
       "      <td>1470.000000</td>\n",
       "      <td>1470.000000</td>\n",
       "      <td>1470.000000</td>\n",
       "      <td>1470.000000</td>\n",
       "      <td>1470.000000</td>\n",
       "      <td>1470.000000</td>\n",
       "      <td>1470.000000</td>\n",
       "      <td>1470.000000</td>\n",
       "      <td>1470.000000</td>\n",
       "      <td>1470.000000</td>\n",
       "      <td>1470.000000</td>\n",
       "      <td>1470.000000</td>\n",
       "      <td>1470.000000</td>\n",
       "    </tr>\n",
       "    <tr>\n",
       "      <th>mean</th>\n",
       "      <td>36.923810</td>\n",
       "      <td>802.485714</td>\n",
       "      <td>9.192517</td>\n",
       "      <td>2.912925</td>\n",
       "      <td>1024.865306</td>\n",
       "      <td>2.721769</td>\n",
       "      <td>65.891156</td>\n",
       "      <td>2.729932</td>\n",
       "      <td>2.063946</td>\n",
       "      <td>2.728571</td>\n",
       "      <td>6502.931293</td>\n",
       "      <td>14313.103401</td>\n",
       "      <td>2.693197</td>\n",
       "      <td>15.209524</td>\n",
       "      <td>3.153741</td>\n",
       "      <td>2.712245</td>\n",
       "      <td>0.793878</td>\n",
       "      <td>11.279592</td>\n",
       "      <td>2.799320</td>\n",
       "      <td>2.761224</td>\n",
       "      <td>7.008163</td>\n",
       "      <td>4.229252</td>\n",
       "      <td>2.187755</td>\n",
       "      <td>4.123129</td>\n",
       "    </tr>\n",
       "    <tr>\n",
       "      <th>std</th>\n",
       "      <td>9.135373</td>\n",
       "      <td>403.509100</td>\n",
       "      <td>8.106864</td>\n",
       "      <td>1.024165</td>\n",
       "      <td>602.024335</td>\n",
       "      <td>1.093082</td>\n",
       "      <td>20.329428</td>\n",
       "      <td>0.711561</td>\n",
       "      <td>1.106940</td>\n",
       "      <td>1.102846</td>\n",
       "      <td>4707.956783</td>\n",
       "      <td>7117.786044</td>\n",
       "      <td>2.498009</td>\n",
       "      <td>3.659938</td>\n",
       "      <td>0.360824</td>\n",
       "      <td>1.081209</td>\n",
       "      <td>0.852077</td>\n",
       "      <td>7.780782</td>\n",
       "      <td>1.289271</td>\n",
       "      <td>0.706476</td>\n",
       "      <td>6.126525</td>\n",
       "      <td>3.623137</td>\n",
       "      <td>3.222430</td>\n",
       "      <td>3.568136</td>\n",
       "    </tr>\n",
       "    <tr>\n",
       "      <th>min</th>\n",
       "      <td>18.000000</td>\n",
       "      <td>102.000000</td>\n",
       "      <td>1.000000</td>\n",
       "      <td>1.000000</td>\n",
       "      <td>1.000000</td>\n",
       "      <td>1.000000</td>\n",
       "      <td>30.000000</td>\n",
       "      <td>1.000000</td>\n",
       "      <td>1.000000</td>\n",
       "      <td>1.000000</td>\n",
       "      <td>1009.000000</td>\n",
       "      <td>2094.000000</td>\n",
       "      <td>0.000000</td>\n",
       "      <td>11.000000</td>\n",
       "      <td>3.000000</td>\n",
       "      <td>1.000000</td>\n",
       "      <td>0.000000</td>\n",
       "      <td>0.000000</td>\n",
       "      <td>0.000000</td>\n",
       "      <td>1.000000</td>\n",
       "      <td>0.000000</td>\n",
       "      <td>0.000000</td>\n",
       "      <td>0.000000</td>\n",
       "      <td>0.000000</td>\n",
       "    </tr>\n",
       "    <tr>\n",
       "      <th>25%</th>\n",
       "      <td>30.000000</td>\n",
       "      <td>465.000000</td>\n",
       "      <td>2.000000</td>\n",
       "      <td>2.000000</td>\n",
       "      <td>491.250000</td>\n",
       "      <td>2.000000</td>\n",
       "      <td>48.000000</td>\n",
       "      <td>2.000000</td>\n",
       "      <td>1.000000</td>\n",
       "      <td>2.000000</td>\n",
       "      <td>2911.000000</td>\n",
       "      <td>8047.000000</td>\n",
       "      <td>1.000000</td>\n",
       "      <td>12.000000</td>\n",
       "      <td>3.000000</td>\n",
       "      <td>2.000000</td>\n",
       "      <td>0.000000</td>\n",
       "      <td>6.000000</td>\n",
       "      <td>2.000000</td>\n",
       "      <td>2.000000</td>\n",
       "      <td>3.000000</td>\n",
       "      <td>2.000000</td>\n",
       "      <td>0.000000</td>\n",
       "      <td>2.000000</td>\n",
       "    </tr>\n",
       "    <tr>\n",
       "      <th>50%</th>\n",
       "      <td>36.000000</td>\n",
       "      <td>802.000000</td>\n",
       "      <td>7.000000</td>\n",
       "      <td>3.000000</td>\n",
       "      <td>1020.500000</td>\n",
       "      <td>3.000000</td>\n",
       "      <td>66.000000</td>\n",
       "      <td>3.000000</td>\n",
       "      <td>2.000000</td>\n",
       "      <td>3.000000</td>\n",
       "      <td>4919.000000</td>\n",
       "      <td>14235.500000</td>\n",
       "      <td>2.000000</td>\n",
       "      <td>14.000000</td>\n",
       "      <td>3.000000</td>\n",
       "      <td>3.000000</td>\n",
       "      <td>1.000000</td>\n",
       "      <td>10.000000</td>\n",
       "      <td>3.000000</td>\n",
       "      <td>3.000000</td>\n",
       "      <td>5.000000</td>\n",
       "      <td>3.000000</td>\n",
       "      <td>1.000000</td>\n",
       "      <td>3.000000</td>\n",
       "    </tr>\n",
       "    <tr>\n",
       "      <th>75%</th>\n",
       "      <td>43.000000</td>\n",
       "      <td>1157.000000</td>\n",
       "      <td>14.000000</td>\n",
       "      <td>4.000000</td>\n",
       "      <td>1555.750000</td>\n",
       "      <td>4.000000</td>\n",
       "      <td>83.750000</td>\n",
       "      <td>3.000000</td>\n",
       "      <td>3.000000</td>\n",
       "      <td>4.000000</td>\n",
       "      <td>8379.000000</td>\n",
       "      <td>20461.500000</td>\n",
       "      <td>4.000000</td>\n",
       "      <td>18.000000</td>\n",
       "      <td>3.000000</td>\n",
       "      <td>4.000000</td>\n",
       "      <td>1.000000</td>\n",
       "      <td>15.000000</td>\n",
       "      <td>3.000000</td>\n",
       "      <td>3.000000</td>\n",
       "      <td>9.000000</td>\n",
       "      <td>7.000000</td>\n",
       "      <td>3.000000</td>\n",
       "      <td>7.000000</td>\n",
       "    </tr>\n",
       "    <tr>\n",
       "      <th>max</th>\n",
       "      <td>60.000000</td>\n",
       "      <td>1499.000000</td>\n",
       "      <td>29.000000</td>\n",
       "      <td>5.000000</td>\n",
       "      <td>2068.000000</td>\n",
       "      <td>4.000000</td>\n",
       "      <td>100.000000</td>\n",
       "      <td>4.000000</td>\n",
       "      <td>5.000000</td>\n",
       "      <td>4.000000</td>\n",
       "      <td>19999.000000</td>\n",
       "      <td>26999.000000</td>\n",
       "      <td>9.000000</td>\n",
       "      <td>25.000000</td>\n",
       "      <td>4.000000</td>\n",
       "      <td>4.000000</td>\n",
       "      <td>3.000000</td>\n",
       "      <td>40.000000</td>\n",
       "      <td>6.000000</td>\n",
       "      <td>4.000000</td>\n",
       "      <td>40.000000</td>\n",
       "      <td>18.000000</td>\n",
       "      <td>15.000000</td>\n",
       "      <td>17.000000</td>\n",
       "    </tr>\n",
       "  </tbody>\n",
       "</table>\n",
       "</div>"
      ],
      "text/plain": [
       "               Age    DailyRate  DistanceFromHome    Education  EmployeeNumber  EnvironmentSatisfaction   HourlyRate  \\\n",
       "count  1470.000000  1470.000000       1470.000000  1470.000000     1470.000000              1470.000000  1470.000000   \n",
       "mean     36.923810   802.485714          9.192517     2.912925     1024.865306                 2.721769    65.891156   \n",
       "std       9.135373   403.509100          8.106864     1.024165      602.024335                 1.093082    20.329428   \n",
       "min      18.000000   102.000000          1.000000     1.000000        1.000000                 1.000000    30.000000   \n",
       "25%      30.000000   465.000000          2.000000     2.000000      491.250000                 2.000000    48.000000   \n",
       "50%      36.000000   802.000000          7.000000     3.000000     1020.500000                 3.000000    66.000000   \n",
       "75%      43.000000  1157.000000         14.000000     4.000000     1555.750000                 4.000000    83.750000   \n",
       "max      60.000000  1499.000000         29.000000     5.000000     2068.000000                 4.000000   100.000000   \n",
       "\n",
       "       JobInvolvement     JobLevel  JobSatisfaction  MonthlyIncome   MonthlyRate  NumCompaniesWorked  \\\n",
       "count     1470.000000  1470.000000      1470.000000    1470.000000   1470.000000         1470.000000   \n",
       "mean         2.729932     2.063946         2.728571    6502.931293  14313.103401            2.693197   \n",
       "std          0.711561     1.106940         1.102846    4707.956783   7117.786044            2.498009   \n",
       "min          1.000000     1.000000         1.000000    1009.000000   2094.000000            0.000000   \n",
       "25%          2.000000     1.000000         2.000000    2911.000000   8047.000000            1.000000   \n",
       "50%          3.000000     2.000000         3.000000    4919.000000  14235.500000            2.000000   \n",
       "75%          3.000000     3.000000         4.000000    8379.000000  20461.500000            4.000000   \n",
       "max          4.000000     5.000000         4.000000   19999.000000  26999.000000            9.000000   \n",
       "\n",
       "       PercentSalaryHike  PerformanceRating  RelationshipSatisfaction  StockOptionLevel  TotalWorkingYears  \\\n",
       "count        1470.000000        1470.000000               1470.000000       1470.000000        1470.000000   \n",
       "mean           15.209524           3.153741                  2.712245          0.793878          11.279592   \n",
       "std             3.659938           0.360824                  1.081209          0.852077           7.780782   \n",
       "min            11.000000           3.000000                  1.000000          0.000000           0.000000   \n",
       "25%            12.000000           3.000000                  2.000000          0.000000           6.000000   \n",
       "50%            14.000000           3.000000                  3.000000          1.000000          10.000000   \n",
       "75%            18.000000           3.000000                  4.000000          1.000000          15.000000   \n",
       "max            25.000000           4.000000                  4.000000          3.000000          40.000000   \n",
       "\n",
       "       TrainingTimesLastYear  WorkLifeBalance  YearsAtCompany  YearsInCurrentRole  YearsSinceLastPromotion  \\\n",
       "count            1470.000000      1470.000000     1470.000000         1470.000000              1470.000000   \n",
       "mean                2.799320         2.761224        7.008163            4.229252                 2.187755   \n",
       "std                 1.289271         0.706476        6.126525            3.623137                 3.222430   \n",
       "min                 0.000000         1.000000        0.000000            0.000000                 0.000000   \n",
       "25%                 2.000000         2.000000        3.000000            2.000000                 0.000000   \n",
       "50%                 3.000000         3.000000        5.000000            3.000000                 1.000000   \n",
       "75%                 3.000000         3.000000        9.000000            7.000000                 3.000000   \n",
       "max                 6.000000         4.000000       40.000000           18.000000                15.000000   \n",
       "\n",
       "       YearsWithCurrManager  \n",
       "count           1470.000000  \n",
       "mean               4.123129  \n",
       "std                3.568136  \n",
       "min                0.000000  \n",
       "25%                2.000000  \n",
       "50%                3.000000  \n",
       "75%                7.000000  \n",
       "max               17.000000  "
      ]
     },
     "execution_count": 11,
     "metadata": {},
     "output_type": "execute_result"
    }
   ],
   "source": [
    "#  statistical summary of all the numerical columns\n",
    "df.describe()"
   ]
  },
  {
   "cell_type": "code",
   "execution_count": 12,
   "id": "7a675f85-3f9c-4381-863d-f09392c1dd1e",
   "metadata": {},
   "outputs": [
    {
     "data": {
      "text/plain": [
       "Attrition\n",
       "No     1233\n",
       "Yes     237\n",
       "Name: count, dtype: int64"
      ]
     },
     "execution_count": 12,
     "metadata": {},
     "output_type": "execute_result"
    }
   ],
   "source": [
    "# Exploring Categorical columns\n",
    "# shows only counts\n",
    "# 1\n",
    "df['Attrition'].value_counts()"
   ]
  },
  {
   "cell_type": "code",
   "execution_count": 15,
   "id": "d90180eb-28dd-46a2-8ee5-74021c2833af",
   "metadata": {},
   "outputs": [
    {
     "data": {
      "text/plain": [
       "Attrition\n",
       "No     84.0\n",
       "Yes    16.0\n",
       "Name: proportion, dtype: float64"
      ]
     },
     "execution_count": 15,
     "metadata": {},
     "output_type": "execute_result"
    }
   ],
   "source": [
    "# Exploring Categorical columns\n",
    "#  shows only percentages\n",
    "# 1\n",
    "df['Attrition'].value_counts(normalize = True).round(2)*100"
   ]
  },
  {
   "cell_type": "code",
   "execution_count": 17,
   "id": "17324c7f-ccbc-4238-910b-ecc6ae7007b4",
   "metadata": {},
   "outputs": [
    {
     "data": {
      "text/plain": [
       "Gender\n",
       "Male      882\n",
       "Female    588\n",
       "Name: count, dtype: int64"
      ]
     },
     "execution_count": 17,
     "metadata": {},
     "output_type": "execute_result"
    }
   ],
   "source": [
    "# Exploring Categorical columns\n",
    "# shows only counts\n",
    "# 2\n",
    "df['Gender'].value_counts()"
   ]
  },
  {
   "cell_type": "code",
   "execution_count": 18,
   "id": "007f5e85-0a88-4dd8-94a8-23fad8f672dd",
   "metadata": {},
   "outputs": [
    {
     "data": {
      "text/plain": [
       "Gender\n",
       "Male      60.0\n",
       "Female    40.0\n",
       "Name: proportion, dtype: float64"
      ]
     },
     "execution_count": 18,
     "metadata": {},
     "output_type": "execute_result"
    }
   ],
   "source": [
    "# Exploring Categorical columns\n",
    " # shows only percentages\n",
    "# 2\n",
    "df['Gender'].value_counts(normalize = True).round(2)*100"
   ]
  },
  {
   "cell_type": "code",
   "execution_count": 19,
   "id": "11c203b5-cc21-411c-9925-e51bce133a18",
   "metadata": {},
   "outputs": [
    {
     "data": {
      "text/plain": [
       "Department\n",
       "Research & Development    65.0\n",
       "Sales                     30.0\n",
       "Human Resources            4.0\n",
       "Name: proportion, dtype: float64"
      ]
     },
     "execution_count": 19,
     "metadata": {},
     "output_type": "execute_result"
    }
   ],
   "source": [
    "# Exploring Categorical columns\n",
    "#  shows only percentages\n",
    "# 3\n",
    "df['Department'].value_counts(normalize = True).round(2)*100"
   ]
  },
  {
   "cell_type": "code",
   "execution_count": 20,
   "id": "079209ff-f2ce-4b30-b0be-62572a90657f",
   "metadata": {},
   "outputs": [
    {
     "data": {
      "text/plain": [
       "Department\n",
       "Research & Development    961\n",
       "Sales                     446\n",
       "Human Resources            63\n",
       "Name: count, dtype: int64"
      ]
     },
     "execution_count": 20,
     "metadata": {},
     "output_type": "execute_result"
    }
   ],
   "source": [
    "# Exploring Categorical columns\n",
    "# shows only counts\n",
    "# 3\n",
    "df['Department'].value_counts()"
   ]
  },
  {
   "cell_type": "code",
   "execution_count": 21,
   "id": "adbf0070-805b-4c16-a821-406e923ce587",
   "metadata": {},
   "outputs": [
    {
     "data": {
      "text/plain": [
       "BusinessTravel\n",
       "Travel Rarely        1043\n",
       "Travel Frequently     277\n",
       "Non-Travel            150\n",
       "Name: count, dtype: int64"
      ]
     },
     "execution_count": 21,
     "metadata": {},
     "output_type": "execute_result"
    }
   ],
   "source": [
    "# Exploring Categorical columns\n",
    "# shows only counts\n",
    "# 4\n",
    "df['BusinessTravel'].value_counts()"
   ]
  },
  {
   "cell_type": "code",
   "execution_count": 22,
   "id": "fa7d95ea-2839-447c-9b7f-c4caa83ba200",
   "metadata": {},
   "outputs": [
    {
     "data": {
      "text/plain": [
       "BusinessTravel\n",
       "Travel Rarely        71.0\n",
       "Travel Frequently    19.0\n",
       "Non-Travel           10.0\n",
       "Name: proportion, dtype: float64"
      ]
     },
     "execution_count": 22,
     "metadata": {},
     "output_type": "execute_result"
    }
   ],
   "source": [
    "# Exploring Categorical columns\n",
    " # shows only percentages\n",
    "# 4\n",
    "df['BusinessTravel'].value_counts(normalize = True).round(2)*100"
   ]
  },
  {
   "cell_type": "code",
   "execution_count": 26,
   "id": "37c884c9-3bf9-48b3-bc2d-456a7f4245c3",
   "metadata": {},
   "outputs": [
    {
     "data": {
      "image/png": "[encoded data removed]",
      "text/plain": [
       "<Figure size 600x600 with 1 Axes>"
      ]
     },
     "metadata": {},
     "output_type": "display_data"
    }
   ],
   "source": [
    "# 4\n",
    "# visualization of BusinessTravel Distribution in a pie chart\n",
    "BusinessTravel = ['Travel Rarely', 'Travel Frequently', 'Non-Travel']\n",
    "counts = [1043, 277, 150]\n",
    "plt.figure(figsize = (6,6))\n",
    "plt.pie(counts, labels = BusinessTravel, autopct = lambda p:f'{p:.2f}%', colors = ['skyblue', 'orange', 'green'])\n",
    "plt.title('Business Travel Distribution')\n",
    "plt.show()"
   ]
  },
  {
   "cell_type": "code",
   "execution_count": 27,
   "id": "f888926e-0ab4-44eb-a899-8af5a5002ca0",
   "metadata": {},
   "outputs": [
    {
     "data": {
      "text/plain": [
       "JobRole\n",
       "Sales Executive              326\n",
       "Research Scientist           292\n",
       "Laboratory Technician        259\n",
       "Manufacturing Director       145\n",
       "Healthcare Representative    131\n",
       "Manager                      102\n",
       "Sales Representative          83\n",
       "Research Director             80\n",
       "Human Resources               52\n",
       "Name: count, dtype: int64"
      ]
     },
     "execution_count": 27,
     "metadata": {},
     "output_type": "execute_result"
    }
   ],
   "source": [
    "# Exploring Categorical columns\n",
    "# shows only counts\n",
    "# 5\n",
    "df['JobRole'].value_counts()"
   ]
  },
  {
   "cell_type": "code",
   "execution_count": 28,
   "id": "0ed1731e-b319-4c48-bb75-13c2d1d1cf16",
   "metadata": {},
   "outputs": [
    {
     "data": {
      "text/plain": [
       "JobRole\n",
       "Sales Executive              22.0\n",
       "Research Scientist           20.0\n",
       "Laboratory Technician        18.0\n",
       "Manufacturing Director       10.0\n",
       "Healthcare Representative     9.0\n",
       "Manager                       7.0\n",
       "Sales Representative          6.0\n",
       "Research Director             5.0\n",
       "Human Resources               4.0\n",
       "Name: proportion, dtype: float64"
      ]
     },
     "execution_count": 28,
     "metadata": {},
     "output_type": "execute_result"
    }
   ],
   "source": [
    "# Exploring Categorical columns\n",
    "#  shows only percentages\n",
    "# 5\n",
    "df['JobRole'].value_counts(normalize = True).round(2)*100"
   ]
  },
  {
   "cell_type": "code",
   "execution_count": 30,
   "id": "13c9cc6d-ec66-4cee-9a18-17c0808ad193",
   "metadata": {},
   "outputs": [
    {
     "data": {
      "image/png": "[encoded data removed]",
      "text/plain": [
       "<Figure size 800x500 with 1 Axes>"
      ]
     },
     "metadata": {},
     "output_type": "display_data"
    }
   ],
   "source": [
    "# 5\n",
    "# visualization of JobRole Distribution in a bar chart\n",
    "JobRole = ['Sales Executive', 'Research Scientist', 'Laboratory Technician', 'Manufacturing Director', 'Healthcare Representative', 'Manager', 'Sales Representative', 'Research Director', 'Human Resources']\n",
    "counts = [326, 292, 259, 145, 131, 102, 83, 80, 52]\n",
    "plt.figure(figsize = (8,5))\n",
    "plt.bar(JobRole, counts, color = ['skyblue', 'orange', 'green'])\n",
    "plt.title('Employee Counts By JobRole')\n",
    "plt.ylabel = 'Count'\n",
    "plt.show()"
   ]
  },
  {
   "cell_type": "code",
   "execution_count": 41,
   "id": "a92b3b36-f42d-47bc-9a2a-38a8ba9b0c04",
   "metadata": {},
   "outputs": [
    {
     "data": {
      "image/png": "[encoded data removed]",
      "text/plain": [
       "<Figure size 600x600 with 1 Axes>"
      ]
     },
     "metadata": {},
     "output_type": "display_data"
    }
   ],
   "source": [
    "# 5\n",
    "# visualization of JobRole Distribution in a pie chart\n",
    "JobRole = ['Sales Executive', 'Research Scientist', 'Laboratory Technician', 'Manufacturing Director', 'Healthcare Representative', 'Manager', 'Sales Representative', 'Research Director', 'Human Resources']\n",
    "counts = [326, 292, 259, 145, 131, 102, 83, 80, 52]\n",
    "plt.figure(figsize = (6,6))\n",
    "plt.pie(counts, labels = JobRole, autopct = lambda p:f'{p:.2f}%', colors = ['skyblue', 'orange', 'green', 'pink', 'purple', 'yellow', 'red', 'black', 'blue'])\n",
    "plt.title('Employee Counts By JobRole')\n",
    "plt.show()"
   ]
  },
  {
   "cell_type": "code",
   "execution_count": 42,
   "id": "b3f502c6-c8a5-4866-8419-465776ccf866",
   "metadata": {},
   "outputs": [
    {
     "data": {
      "text/plain": [
       "MaritalStatus\n",
       "Married     673\n",
       "Single      470\n",
       "Divorced    327\n",
       "Name: count, dtype: int64"
      ]
     },
     "execution_count": 42,
     "metadata": {},
     "output_type": "execute_result"
    }
   ],
   "source": [
    "# Exploring Categorical columns\n",
    "# shows only counts\n",
    "# 6\n",
    "df['MaritalStatus'].value_counts()"
   ]
  },
  {
   "cell_type": "code",
   "execution_count": 43,
   "id": "ca5634f0-9fb6-413d-86df-3d54d6d555d7",
   "metadata": {},
   "outputs": [
    {
     "data": {
      "text/plain": [
       "MaritalStatus\n",
       "Married     46.0\n",
       "Single      32.0\n",
       "Divorced    22.0\n",
       "Name: proportion, dtype: float64"
      ]
     },
     "execution_count": 43,
     "metadata": {},
     "output_type": "execute_result"
    }
   ],
   "source": [
    "# Exploring Categorical columns\n",
    "#  shows only percentages\n",
    "# 6\n",
    "df['MaritalStatus'].value_counts(normalize = True).round(2)*100"
   ]
  },
  {
   "cell_type": "code",
   "execution_count": 47,
   "id": "d316059e-f746-4d4f-89b6-b2c0ba946bfb",
   "metadata": {},
   "outputs": [
    {
     "data": {
      "image/png": "[encoded data removed]",
      "text/plain": [
       "<Figure size 600x400 with 1 Axes>"
      ]
     },
     "metadata": {},
     "output_type": "display_data"
    }
   ],
   "source": [
    "# 6\n",
    "# visualization of MaritalStatus Distribution in a bar chart\n",
    "MaritalStatus = ['Married', 'Single','Divorced']\n",
    "counts = [673, 470, 327]\n",
    "plt.figure(figsize = (6,4))\n",
    "plt.bar(MaritalStatus, counts, color = ['skyblue', 'orange', 'green'])\n",
    "plt.title('Employee Counts By MaritalStatus')\n",
    "plt.ylabel = 'Count'\n",
    "plt.show()"
   ]
  },
  {
   "cell_type": "code",
   "execution_count": 49,
   "id": "264e04b4-902a-4322-ab75-56bbc8b26f6c",
   "metadata": {},
   "outputs": [
    {
     "data": {
      "text/plain": [
       "OverTime\n",
       "No     1054\n",
       "Yes     416\n",
       "Name: count, dtype: int64"
      ]
     },
     "execution_count": 49,
     "metadata": {},
     "output_type": "execute_result"
    }
   ],
   "source": [
    "# Exploring Categorical columns\n",
    "# shows only counts\n",
    "# 7\n",
    "df['OverTime'].value_counts()"
   ]
  },
  {
   "cell_type": "code",
   "execution_count": 50,
   "id": "f3b99a5b-5197-4538-ac78-228e2b8f1042",
   "metadata": {},
   "outputs": [
    {
     "data": {
      "text/plain": [
       "OverTime\n",
       "No     72.0\n",
       "Yes    28.0\n",
       "Name: proportion, dtype: float64"
      ]
     },
     "execution_count": 50,
     "metadata": {},
     "output_type": "execute_result"
    }
   ],
   "source": [
    "# Exploring Categorical columns\n",
    "#  shows only percentages\n",
    "# 7\n",
    "df['OverTime'].value_counts(normalize = True).round(2)*100"
   ]
  },
  {
   "cell_type": "code",
   "execution_count": 51,
   "id": "855d22df-5090-4a1d-9827-b0275cbe87c0",
   "metadata": {},
   "outputs": [
    {
     "data": {
      "image/png": "[encoded data removed]",
      "text/plain": [
       "<Figure size 600x400 with 1 Axes>"
      ]
     },
     "metadata": {},
     "output_type": "display_data"
    }
   ],
   "source": [
    "# 7\n",
    "# visualization of OverTime Distribution in a bar chart\n",
    "OverTime = ['No', 'Yes']\n",
    "counts = [1054, 416]\n",
    "plt.figure(figsize = (6,4))\n",
    "plt.bar(OverTime, counts, color = ['skyblue', 'orange', 'green'])\n",
    "plt.title('Employee Counts By OverTime')\n",
    "plt.ylabel = 'Count'\n",
    "plt.show()"
   ]
  },
  {
   "cell_type": "code",
   "execution_count": 52,
   "id": "47090580-20cb-4168-80f2-b618ee0c0d74",
   "metadata": {},
   "outputs": [
    {
     "data": {
      "text/plain": [
       "EducationField\n",
       "Life Sciences       606\n",
       "Medical             464\n",
       "Marketing           159\n",
       "Technical Degree    132\n",
       "Other                82\n",
       "Human Resources      27\n",
       "Name: count, dtype: int64"
      ]
     },
     "execution_count": 52,
     "metadata": {},
     "output_type": "execute_result"
    }
   ],
   "source": [
    "# Exploring Categorical columns\n",
    "# shows only counts\n",
    "# 8\n",
    "df['EducationField'].value_counts()"
   ]
  },
  {
   "cell_type": "code",
   "execution_count": 53,
   "id": "bf60a0be-4df2-4159-9e25-499c04a6e6a7",
   "metadata": {},
   "outputs": [
    {
     "data": {
      "text/plain": [
       "EducationField\n",
       "Life Sciences       41.0\n",
       "Medical             32.0\n",
       "Marketing           11.0\n",
       "Technical Degree     9.0\n",
       "Other                6.0\n",
       "Human Resources      2.0\n",
       "Name: proportion, dtype: float64"
      ]
     },
     "execution_count": 53,
     "metadata": {},
     "output_type": "execute_result"
    }
   ],
   "source": [
    "# Exploring Categorical columns\n",
    "# shows only percentages\n",
    "# 8\n",
    "df['EducationField'].value_counts(normalize = True).round(2)*100"
   ]
  },
  {
   "cell_type": "code",
   "execution_count": 60,
   "id": "9054ffc6-0e6b-4770-8d86-9f5849cf5317",
   "metadata": {},
   "outputs": [
    {
     "data": {
      "image/png": "[encoded data removed]",
      "text/plain": [
       "<Figure size 800x500 with 1 Axes>"
      ]
     },
     "metadata": {},
     "output_type": "display_data"
    }
   ],
   "source": [
    "# 8\n",
    "# visualization of EducationField Distribution in a bar chart\n",
    "EducationField = ['Life Sciences', 'Medical', 'Marketing', 'Technical Degree', 'Other', 'Human Resources']\n",
    "counts = [606, 464, 159, 132, 82, 27]\n",
    "plt.figure(figsize = (8,5))\n",
    "plt.bar(EducationField, counts, color = ['skyblue', 'orange', 'green', 'red', 'yellow', 'purple'])\n",
    "plt.title('Employee Counts By EducationField')\n",
    "plt.ylabel = 'Count'\n",
    "plt.show()"
   ]
  },
  {
   "cell_type": "code",
   "execution_count": 8,
   "id": "0611ee8f-d9da-4066-98a6-7375f9e3c8cd",
   "metadata": {},
   "outputs": [
    {
     "data": {
      "text/plain": [
       "count    1470.000000\n",
       "mean       36.923810\n",
       "std         9.135373\n",
       "min        18.000000\n",
       "25%        30.000000\n",
       "50%        36.000000\n",
       "75%        43.000000\n",
       "max        60.000000\n",
       "Name: Age, dtype: float64"
      ]
     },
     "execution_count": 8,
     "metadata": {},
     "output_type": "execute_result"
    }
   ],
   "source": [
    "# Exploring Numerical columns\n",
    "#1\n",
    "df['Age'].describe()"
   ]
  },
  {
   "cell_type": "code",
   "execution_count": 12,
   "id": "c0027875-75e8-4e3c-98eb-5e0daf835a4e",
   "metadata": {},
   "outputs": [
    {
     "data": {
      "image/png": "[encoded data removed]",
      "text/plain": [
       "<Figure size 700x500 with 1 Axes>"
      ]
     },
     "metadata": {},
     "output_type": "display_data"
    }
   ],
   "source": [
    "# 1\n",
    "# visualization of Age Distribution in histogram\n",
    "df['Age'].plot(kind = 'hist', bins = 15, figsize = (7,5), color = 'skyblue', edgecolor = 'black')\n",
    "plt.title(\"Age Distribution\")\n",
    "plt.xlabel(\"Age\")\n",
    "plt.ylabel(\"frequency\")\n",
    "plt.show()"
   ]
  },
  {
   "cell_type": "code",
   "execution_count": 13,
   "id": "2a5eaaa3-621f-4423-a67f-986b9a6cf1a2",
   "metadata": {},
   "outputs": [
    {
     "data": {
      "text/plain": [
       "count     1470.000000\n",
       "mean      6502.931293\n",
       "std       4707.956783\n",
       "min       1009.000000\n",
       "25%       2911.000000\n",
       "50%       4919.000000\n",
       "75%       8379.000000\n",
       "max      19999.000000\n",
       "Name: MonthlyIncome, dtype: float64"
      ]
     },
     "execution_count": 13,
     "metadata": {},
     "output_type": "execute_result"
    }
   ],
   "source": [
    "# Exploring Numerical columns\n",
    "#2\n",
    "df['MonthlyIncome'].describe()"
   ]
  },
  {
   "cell_type": "code",
   "execution_count": 17,
   "id": "26d3dcce-7b70-4f31-a756-9c89e4ebe418",
   "metadata": {},
   "outputs": [
    {
     "data": {
      "image/png": "[encoded data removed]",
      "text/plain": [
       "<Figure size 700x500 with 1 Axes>"
      ]
     },
     "metadata": {},
     "output_type": "display_data"
    }
   ],
   "source": [
    "# 2\n",
    "# visualization of MonthlyIncome Distribution in histogram\n",
    "df['MonthlyIncome'].plot(kind = 'hist', bins = 15, figsize = (7,5), color = 'skyblue', edgecolor = 'black')\n",
    "plt.title(\"MonthlyIncome Distribution\")\n",
    "plt.xlabel(\"MonthlyIncome\")\n",
    "plt.ylabel(\"Frequency\")\n",
    "plt.show()\n"
   ]
  },
  {
   "cell_type": "code",
   "execution_count": 19,
   "id": "b3276695-9bd5-4a1f-9fd3-dbd5244d2803",
   "metadata": {},
   "outputs": [
    {
     "data": {
      "text/plain": [
       "count    1470.000000\n",
       "mean        7.008163\n",
       "std         6.126525\n",
       "min         0.000000\n",
       "25%         3.000000\n",
       "50%         5.000000\n",
       "75%         9.000000\n",
       "max        40.000000\n",
       "Name: YearsAtCompany, dtype: float64"
      ]
     },
     "execution_count": 19,
     "metadata": {},
     "output_type": "execute_result"
    }
   ],
   "source": [
    "# Exploring Numerical columns\n",
    "#3\n",
    "df['YearsAtCompany'].describe()"
   ]
  },
  {
   "cell_type": "code",
   "execution_count": 21,
   "id": "f321c500-955f-4a30-80b8-3208cfbfd006",
   "metadata": {},
   "outputs": [
    {
     "data": {
      "image/png": "[encoded data removed]",
      "text/plain": [
       "<Figure size 700x500 with 1 Axes>"
      ]
     },
     "metadata": {},
     "output_type": "display_data"
    }
   ],
   "source": [
    "# 3\n",
    "# visualization of YearsAtCompany Distribution in histogram\n",
    "df['YearsAtCompany'].plot(kind = 'hist', bins = 15, figsize = (7,5), color = 'skyblue', edgecolor = 'black')\n",
    "plt.title(\"YearsAtCompany Distribution\")\n",
    "plt.xlabel(\"YearsAtCompany\")\n",
    "plt.ylabel(\"frequency\")\n",
    "plt.show()         "
   ]
  },
  {
   "cell_type": "code",
   "execution_count": 22,
   "id": "ec1328aa-72dc-482a-917e-dea07d528003",
   "metadata": {},
   "outputs": [
    {
     "data": {
      "text/plain": [
       "count    1470.000000\n",
       "mean        9.192517\n",
       "std         8.106864\n",
       "min         1.000000\n",
       "25%         2.000000\n",
       "50%         7.000000\n",
       "75%        14.000000\n",
       "max        29.000000\n",
       "Name: DistanceFromHome, dtype: float64"
      ]
     },
     "execution_count": 22,
     "metadata": {},
     "output_type": "execute_result"
    }
   ],
   "source": [
    "# Exploring Numerical columns\n",
    "#4\n",
    "df['DistanceFromHome'].describe()"
   ]
  },
  {
   "cell_type": "code",
   "execution_count": 23,
   "id": "85b43b1a-ef1e-4ac5-9699-eb3cd6734608",
   "metadata": {},
   "outputs": [
    {
     "data": {
      "image/png": "[encoded data removed]",
      "text/plain": [
       "<Figure size 700x500 with 1 Axes>"
      ]
     },
     "metadata": {},
     "output_type": "display_data"
    }
   ],
   "source": [
    "# 4\n",
    "# visualization of DistanceFromHome Distribution in histogram\n",
    "df['DistanceFromHome'].plot(kind = 'hist', bins = 15, figsize = (7,5), color = 'skyblue', edgecolor = 'black')\n",
    "plt.title(\"DistanceFromHome Distribution\")\n",
    "plt.xlabel(\"DistanceFromHome\")\n",
    "plt.ylabel(\"Frequency\")\n",
    "plt.show()"
   ]
  },
  {
   "cell_type": "code",
   "execution_count": 25,
   "id": "c105fab9-d877-420e-a1e3-5722ba3b5896",
   "metadata": {},
   "outputs": [
    {
     "data": {
      "text/plain": [
       "count    1470.000000\n",
       "mean       11.279592\n",
       "std         7.780782\n",
       "min         0.000000\n",
       "25%         6.000000\n",
       "50%        10.000000\n",
       "75%        15.000000\n",
       "max        40.000000\n",
       "Name: TotalWorkingYears, dtype: float64"
      ]
     },
     "execution_count": 25,
     "metadata": {},
     "output_type": "execute_result"
    }
   ],
   "source": [
    "# Exploring Numerical columns\n",
    "#5\n",
    "df['TotalWorkingYears'].describe()"
   ]
  },
  {
   "cell_type": "code",
   "execution_count": 26,
   "id": "cd73d1c2-f273-4baa-9d8a-8cfa728ff12e",
   "metadata": {},
   "outputs": [
    {
     "data": {
      "image/png": "[encoded data removed]",
      "text/plain": [
       "<Figure size 700x500 with 1 Axes>"
      ]
     },
     "metadata": {},
     "output_type": "display_data"
    }
   ],
   "source": [
    "#5\n",
    "# visualization of TotalWorkingYears Distribution in histogram\n",
    "df['TotalWorkingYears'].plot(kind = 'hist', bins = 15, figsize = (7,5), color = 'skyblue', edgecolor = 'black')\n",
    "plt.title(\"TotalWorkingYears Distribution\")\n",
    "plt.xlabel(\"TotalWorkingYears\")\n",
    "plt.ylabel(\"Frequency\")\n",
    "plt.show()"
   ]
  },
  {
   "cell_type": "code",
   "execution_count": 27,
   "id": "e95298eb-d341-49c4-8c7d-9e378ec8928d",
   "metadata": {},
   "outputs": [
    {
     "data": {
      "text/plain": [
       "count    1470.000000\n",
       "mean        4.229252\n",
       "std         3.623137\n",
       "min         0.000000\n",
       "25%         2.000000\n",
       "50%         3.000000\n",
       "75%         7.000000\n",
       "max        18.000000\n",
       "Name: YearsInCurrentRole, dtype: float64"
      ]
     },
     "execution_count": 27,
     "metadata": {},
     "output_type": "execute_result"
    }
   ],
   "source": [
    "# Exploring Numerical columns\n",
    "#6\n",
    "df['YearsInCurrentRole'].describe()"
   ]
  },
  {
   "cell_type": "code",
   "execution_count": 28,
   "id": "96e1b8d4-14db-4b22-ac7b-0427508ddf2a",
   "metadata": {},
   "outputs": [
    {
     "data": {
      "image/png": "[encoded data removed]",
      "text/plain": [
       "<Figure size 700x500 with 1 Axes>"
      ]
     },
     "metadata": {},
     "output_type": "display_data"
    }
   ],
   "source": [
    "# 6\n",
    "# visualization of YearsInCurrentRole Distribution in histogram\n",
    "df['YearsInCurrentRole'].plot(kind = 'hist', bins = 15, figsize = (7,5), color = 'skyblue', edgecolor = 'black')\n",
    "plt.title(\"YearsInCurrentRole Distribution\")\n",
    "plt.xlabel(\"YearsInCurrentRole\")\n",
    "plt.ylabel(\"Frequency\")\n",
    "plt.show()"
   ]
  },
  {
   "cell_type": "code",
   "execution_count": 29,
   "id": "59c46bc3-0f08-4cfd-ba39-23875b4c1536",
   "metadata": {},
   "outputs": [
    {
     "data": {
      "text/plain": [
       "count    1470.000000\n",
       "mean        4.123129\n",
       "std         3.568136\n",
       "min         0.000000\n",
       "25%         2.000000\n",
       "50%         3.000000\n",
       "75%         7.000000\n",
       "max        17.000000\n",
       "Name: YearsWithCurrManager, dtype: float64"
      ]
     },
     "execution_count": 29,
     "metadata": {},
     "output_type": "execute_result"
    }
   ],
   "source": [
    "# Exploring Numerical columns\n",
    "#7\n",
    "df['YearsWithCurrManager'].describe()"
   ]
  },
  {
   "cell_type": "code",
   "execution_count": 30,
   "id": "d6d6eb9a-a7d3-4c34-a0f6-500df171a051",
   "metadata": {},
   "outputs": [
    {
     "data": {
      "image/png": "[encoded data removed]",
      "text/plain": [
       "<Figure size 700x500 with 1 Axes>"
      ]
     },
     "metadata": {},
     "output_type": "display_data"
    }
   ],
   "source": [
    "# 7\n",
    "# visualization of YearsWithCurrManager Distribution in histogram\n",
    "df['YearsWithCurrManager'].plot(kind = 'hist', bins = 15, figsize = (7,5), color = 'skyblue', edgecolor = 'black')\n",
    "plt.title(\"YearsWithCurrManager Distribution\")\n",
    "plt.xlabel(\"YearsWithCurrManager\")\n",
    "plt.ylabel(\"Frequency\")\n",
    "plt.show()"
   ]
  },
  {
   "cell_type": "code",
   "execution_count": 31,
   "id": "bf261200-2ab3-45db-906e-ed08f8f68847",
   "metadata": {},
   "outputs": [
    {
     "data": {
      "text/plain": [
       "count    1470.000000\n",
       "mean        2.187755\n",
       "std         3.222430\n",
       "min         0.000000\n",
       "25%         0.000000\n",
       "50%         1.000000\n",
       "75%         3.000000\n",
       "max        15.000000\n",
       "Name: YearsSinceLastPromotion, dtype: float64"
      ]
     },
     "execution_count": 31,
     "metadata": {},
     "output_type": "execute_result"
    }
   ],
   "source": [
    "# Exploring Numerical columns\n",
    "#8\n",
    "df['YearsSinceLastPromotion'].describe()"
   ]
  },
  {
   "cell_type": "code",
   "execution_count": 32,
   "id": "4c049990-b3a0-4c23-a5ca-34ffd39dddab",
   "metadata": {},
   "outputs": [
    {
     "data": {
      "image/png": "[encoded data removed]",
      "text/plain": [
       "<Figure size 700x500 with 1 Axes>"
      ]
     },
     "metadata": {},
     "output_type": "display_data"
    }
   ],
   "source": [
    "# 8\n",
    "# visualization of YearsSinceLastPromotion Distribution in histogram\n",
    "df['YearsSinceLastPromotion'].plot(kind = 'hist', bins = 15, figsize = (7,5), color = 'skyblue', edgecolor = 'black')\n",
    "plt.title(\"YearsSinceLastPromotion Distribution\")\n",
    "plt.xlabel(\"YearsSinceLastPromotion\")\n",
    "plt.ylabel(\"Frequency\")\n",
    "plt.show()"
   ]
  },
  {
   "cell_type": "code",
   "execution_count": 33,
   "id": "f8399f93-6359-4a85-9691-6ec56e136c3d",
   "metadata": {},
   "outputs": [
    {
     "data": {
      "text/plain": [
       "count    1470.000000\n",
       "mean        3.153741\n",
       "std         0.360824\n",
       "min         3.000000\n",
       "25%         3.000000\n",
       "50%         3.000000\n",
       "75%         3.000000\n",
       "max         4.000000\n",
       "Name: PerformanceRating, dtype: float64"
      ]
     },
     "execution_count": 33,
     "metadata": {},
     "output_type": "execute_result"
    }
   ],
   "source": [
    "# Exploring Numerical columns\n",
    "#9\n",
    "df['PerformanceRating'].describe()"
   ]
  },
  {
   "cell_type": "code",
   "execution_count": 35,
   "id": "5fb6be6c-7aaf-4e5f-bb71-e5cdf54dc983",
   "metadata": {},
   "outputs": [
    {
     "data": {
      "image/png": "[encoded data removed]",
      "text/plain": [
       "<Figure size 700x500 with 1 Axes>"
      ]
     },
     "metadata": {},
     "output_type": "display_data"
    }
   ],
   "source": [
    "# 9\n",
    "# visualization of PerformanceRating Distribution in histogram\n",
    "df['PerformanceRating'].plot(kind = 'hist', bins = 15, figsize = (7,5), color = 'skyblue', edgecolor = 'black')\n",
    "plt.title(\"PerformanceRating Distribution\")\n",
    "plt.xlabel(\"PerformanceRating\")\n",
    "plt.ylabel(\"Frequency\")\n",
    "plt.show()"
   ]
  },
  {
   "cell_type": "code",
   "execution_count": 34,
   "id": "e79a618f-d61b-48ab-88fd-462dc9a045cf",
   "metadata": {},
   "outputs": [
    {
     "data": {
      "text/plain": [
       "count    1470.000000\n",
       "mean        0.793878\n",
       "std         0.852077\n",
       "min         0.000000\n",
       "25%         0.000000\n",
       "50%         1.000000\n",
       "75%         1.000000\n",
       "max         3.000000\n",
       "Name: StockOptionLevel, dtype: float64"
      ]
     },
     "execution_count": 34,
     "metadata": {},
     "output_type": "execute_result"
    }
   ],
   "source": [
    "# Exploring Numerical columns\n",
    "#10\n",
    "df['StockOptionLevel'].describe()"
   ]
  },
  {
   "cell_type": "code",
   "execution_count": 36,
   "id": "d8de5077-e343-47b5-9590-1c3f0334a696",
   "metadata": {},
   "outputs": [
    {
     "data": {
      "image/png": "[encoded data removed]",
      "text/plain": [
       "<Figure size 700x500 with 1 Axes>"
      ]
     },
     "metadata": {},
     "output_type": "display_data"
    }
   ],
   "source": [
    "# 10\n",
    "# visualization of StockOptionLevel Distribution in histogram\n",
    "df['StockOptionLevel'].plot(kind = 'hist', bins = 15, figsize = (7,5), color = 'skyblue', edgecolor = 'black')\n",
    "plt.title(\"StockOptionLevel Distribution\")\n",
    "plt.xlabel(\"StockOptionLevel\")\n",
    "plt.ylabel(\"Frequency\")\n",
    "plt.show()"
   ]
  },
  {
   "cell_type": "code",
   "execution_count": 37,
   "id": "ff05e5e3-da49-4777-a391-b063494dd34b",
   "metadata": {},
   "outputs": [
    {
     "data": {
      "text/html": [
       "<div>\n",
       "<style scoped>\n",
       "    .dataframe tbody tr th:only-of-type {\n",
       "        vertical-align: middle;\n",
       "    }\n",
       "\n",
       "    .dataframe tbody tr th {\n",
       "        vertical-align: top;\n",
       "    }\n",
       "\n",
       "    .dataframe thead th {\n",
       "        text-align: right;\n",
       "    }\n",
       "</style>\n",
       "<table border=\"1\" class=\"dataframe\">\n",
       "  <thead>\n",
       "    <tr style=\"text-align: right;\">\n",
       "      <th></th>\n",
       "      <th>count</th>\n",
       "      <th>mean</th>\n",
       "      <th>std</th>\n",
       "      <th>min</th>\n",
       "      <th>25%</th>\n",
       "      <th>50%</th>\n",
       "      <th>75%</th>\n",
       "      <th>max</th>\n",
       "    </tr>\n",
       "    <tr>\n",
       "      <th>Attrition</th>\n",
       "      <th></th>\n",
       "      <th></th>\n",
       "      <th></th>\n",
       "      <th></th>\n",
       "      <th></th>\n",
       "      <th></th>\n",
       "      <th></th>\n",
       "      <th></th>\n",
       "    </tr>\n",
       "  </thead>\n",
       "  <tbody>\n",
       "    <tr>\n",
       "      <th>No</th>\n",
       "      <td>1233.0</td>\n",
       "      <td>37.561233</td>\n",
       "      <td>8.88836</td>\n",
       "      <td>18.0</td>\n",
       "      <td>31.0</td>\n",
       "      <td>36.0</td>\n",
       "      <td>43.0</td>\n",
       "      <td>60.0</td>\n",
       "    </tr>\n",
       "    <tr>\n",
       "      <th>Yes</th>\n",
       "      <td>237.0</td>\n",
       "      <td>33.607595</td>\n",
       "      <td>9.68935</td>\n",
       "      <td>18.0</td>\n",
       "      <td>28.0</td>\n",
       "      <td>32.0</td>\n",
       "      <td>39.0</td>\n",
       "      <td>58.0</td>\n",
       "    </tr>\n",
       "  </tbody>\n",
       "</table>\n",
       "</div>"
      ],
      "text/plain": [
       "            count       mean      std   min   25%   50%   75%   max\n",
       "Attrition                                                          \n",
       "No         1233.0  37.561233  8.88836  18.0  31.0  36.0  43.0  60.0\n",
       "Yes         237.0  33.607595  9.68935  18.0  28.0  32.0  39.0  58.0"
      ]
     },
     "execution_count": 37,
     "metadata": {},
     "output_type": "execute_result"
    }
   ],
   "source": [
    "#  Bivariate Analysis (Numerical vs attrition)\n",
    "# Age vs Attrition\n",
    "#  1\n",
    "df.groupby('Attrition')['Age'].describe()"
   ]
  },
  {
   "cell_type": "code",
   "execution_count": 46,
   "id": "af768bd1-3e02-4592-a1cc-ae3838818350",
   "metadata": {},
   "outputs": [
    {
     "name": "stderr",
     "output_type": "stream",
     "text": [
      "C:\\Users\\DIVYA BASANTRAY\\AppData\\Local\\Temp\\ipykernel_3260\\523423762.py:4: FutureWarning: \n",
      "\n",
      "Passing `palette` without assigning `hue` is deprecated and will be removed in v0.14.0. Assign the `x` variable to `hue` and set `legend=False` for the same effect.\n",
      "\n",
      "  sns.boxplot(x = 'Attrition', y = 'Age', data = df, palette = 'Set2')\n"
     ]
    },
    {
     "data": {
      "image/png": "[encoded data removed]",
      "text/plain": [
       "<Figure size 600x400 with 1 Axes>"
      ]
     },
     "metadata": {},
     "output_type": "display_data"
    }
   ],
   "source": [
    "# Box plot of  Age vs Attrition\n",
    "# 1\n",
    "import seaborn as sns\n",
    "plt.figure(figsize = (6,4))\n",
    "sns.boxplot(x = 'Attrition', y = 'Age', data = df, palette = 'Set2')\n",
    "plt.title(\"Age vs Attrition\")\n",
    "plt.show()"
   ]
  },
  {
   "cell_type": "code",
   "execution_count": 44,
   "id": "6f5766fa-ca67-4417-a3fc-dda384dc505b",
   "metadata": {},
   "outputs": [
    {
     "data": {
      "text/html": [
       "<div>\n",
       "<style scoped>\n",
       "    .dataframe tbody tr th:only-of-type {\n",
       "        vertical-align: middle;\n",
       "    }\n",
       "\n",
       "    .dataframe tbody tr th {\n",
       "        vertical-align: top;\n",
       "    }\n",
       "\n",
       "    .dataframe thead th {\n",
       "        text-align: right;\n",
       "    }\n",
       "</style>\n",
       "<table border=\"1\" class=\"dataframe\">\n",
       "  <thead>\n",
       "    <tr style=\"text-align: right;\">\n",
       "      <th></th>\n",
       "      <th>count</th>\n",
       "      <th>mean</th>\n",
       "      <th>std</th>\n",
       "      <th>min</th>\n",
       "      <th>25%</th>\n",
       "      <th>50%</th>\n",
       "      <th>75%</th>\n",
       "      <th>max</th>\n",
       "    </tr>\n",
       "    <tr>\n",
       "      <th>Attrition</th>\n",
       "      <th></th>\n",
       "      <th></th>\n",
       "      <th></th>\n",
       "      <th></th>\n",
       "      <th></th>\n",
       "      <th></th>\n",
       "      <th></th>\n",
       "      <th></th>\n",
       "    </tr>\n",
       "  </thead>\n",
       "  <tbody>\n",
       "    <tr>\n",
       "      <th>No</th>\n",
       "      <td>1233.0</td>\n",
       "      <td>6832.739659</td>\n",
       "      <td>4818.208001</td>\n",
       "      <td>1051.0</td>\n",
       "      <td>3211.0</td>\n",
       "      <td>5204.0</td>\n",
       "      <td>8834.0</td>\n",
       "      <td>19999.0</td>\n",
       "    </tr>\n",
       "    <tr>\n",
       "      <th>Yes</th>\n",
       "      <td>237.0</td>\n",
       "      <td>4787.092827</td>\n",
       "      <td>3640.210367</td>\n",
       "      <td>1009.0</td>\n",
       "      <td>2373.0</td>\n",
       "      <td>3202.0</td>\n",
       "      <td>5916.0</td>\n",
       "      <td>19859.0</td>\n",
       "    </tr>\n",
       "  </tbody>\n",
       "</table>\n",
       "</div>"
      ],
      "text/plain": [
       "            count         mean          std     min     25%     50%     75%      max\n",
       "Attrition                                                                           \n",
       "No         1233.0  6832.739659  4818.208001  1051.0  3211.0  5204.0  8834.0  19999.0\n",
       "Yes         237.0  4787.092827  3640.210367  1009.0  2373.0  3202.0  5916.0  19859.0"
      ]
     },
     "execution_count": 44,
     "metadata": {},
     "output_type": "execute_result"
    }
   ],
   "source": [
    "#  Bivariate Analysis (Numerical vs attrition)\n",
    "# MonthlyIncome vs Attrition\n",
    "#  2\n",
    "df.groupby('Attrition')['MonthlyIncome'].describe()"
   ]
  },
  {
   "cell_type": "code",
   "execution_count": 47,
   "id": "3873aff3-f637-4e02-9604-3ae2e7bd992a",
   "metadata": {},
   "outputs": [
    {
     "name": "stderr",
     "output_type": "stream",
     "text": [
      "C:\\Users\\DIVYA BASANTRAY\\AppData\\Local\\Temp\\ipykernel_3260\\3627226718.py:2: FutureWarning: \n",
      "\n",
      "Passing `palette` without assigning `hue` is deprecated and will be removed in v0.14.0. Assign the `x` variable to `hue` and set `legend=False` for the same effect.\n",
      "\n",
      "  sns.boxplot(x = 'Attrition', y ='MonthlyIncome', data = df, palette = 'Set2')\n"
     ]
    },
    {
     "data": {
      "image/png": "[encoded data removed]",
      "text/plain": [
       "<Figure size 600x400 with 1 Axes>"
      ]
     },
     "metadata": {},
     "output_type": "display_data"
    }
   ],
   "source": [
    "# Box plot of  MonthlyIncome vs Attrition\n",
    "# 2\n",
    "plt.figure(figsize = (6,4))\n",
    "sns.boxplot(x = 'Attrition', y ='MonthlyIncome', data = df, palette = 'Set2')\n",
    "plt.title = (\"MonthlyIncome vs Attrition\")\n",
    "plt.show()"
   ]
  },
  {
   "cell_type": "code",
   "execution_count": 51,
   "id": "af99a87e-f5af-4928-a1da-7d2248508ddd",
   "metadata": {},
   "outputs": [
    {
     "data": {
      "text/html": [
       "<div>\n",
       "<style scoped>\n",
       "    .dataframe tbody tr th:only-of-type {\n",
       "        vertical-align: middle;\n",
       "    }\n",
       "\n",
       "    .dataframe tbody tr th {\n",
       "        vertical-align: top;\n",
       "    }\n",
       "\n",
       "    .dataframe thead th {\n",
       "        text-align: right;\n",
       "    }\n",
       "</style>\n",
       "<table border=\"1\" class=\"dataframe\">\n",
       "  <thead>\n",
       "    <tr style=\"text-align: right;\">\n",
       "      <th></th>\n",
       "      <th>count</th>\n",
       "      <th>mean</th>\n",
       "      <th>std</th>\n",
       "      <th>min</th>\n",
       "      <th>25%</th>\n",
       "      <th>50%</th>\n",
       "      <th>75%</th>\n",
       "      <th>max</th>\n",
       "    </tr>\n",
       "    <tr>\n",
       "      <th>Attrition</th>\n",
       "      <th></th>\n",
       "      <th></th>\n",
       "      <th></th>\n",
       "      <th></th>\n",
       "      <th></th>\n",
       "      <th></th>\n",
       "      <th></th>\n",
       "      <th></th>\n",
       "    </tr>\n",
       "  </thead>\n",
       "  <tbody>\n",
       "    <tr>\n",
       "      <th>No</th>\n",
       "      <td>1233.0</td>\n",
       "      <td>7.369019</td>\n",
       "      <td>6.096298</td>\n",
       "      <td>0.0</td>\n",
       "      <td>3.0</td>\n",
       "      <td>6.0</td>\n",
       "      <td>10.0</td>\n",
       "      <td>37.0</td>\n",
       "    </tr>\n",
       "    <tr>\n",
       "      <th>Yes</th>\n",
       "      <td>237.0</td>\n",
       "      <td>5.130802</td>\n",
       "      <td>5.949984</td>\n",
       "      <td>0.0</td>\n",
       "      <td>1.0</td>\n",
       "      <td>3.0</td>\n",
       "      <td>7.0</td>\n",
       "      <td>40.0</td>\n",
       "    </tr>\n",
       "  </tbody>\n",
       "</table>\n",
       "</div>"
      ],
      "text/plain": [
       "            count      mean       std  min  25%  50%   75%   max\n",
       "Attrition                                                       \n",
       "No         1233.0  7.369019  6.096298  0.0  3.0  6.0  10.0  37.0\n",
       "Yes         237.0  5.130802  5.949984  0.0  1.0  3.0   7.0  40.0"
      ]
     },
     "execution_count": 51,
     "metadata": {},
     "output_type": "execute_result"
    }
   ],
   "source": [
    "#  Bivariate Analysis (Numerical vs attrition)\n",
    "# YearsAtCompany vs Attrition\n",
    "#  3\n",
    "df.groupby('Attrition')['YearsAtCompany'].describe()"
   ]
  },
  {
   "cell_type": "code",
   "execution_count": 52,
   "id": "e4a371e0-e42f-41b4-be74-4a8113376916",
   "metadata": {},
   "outputs": [
    {
     "name": "stderr",
     "output_type": "stream",
     "text": [
      "C:\\Users\\DIVYA BASANTRAY\\AppData\\Local\\Temp\\ipykernel_3260\\3129172213.py:2: FutureWarning: \n",
      "\n",
      "Passing `palette` without assigning `hue` is deprecated and will be removed in v0.14.0. Assign the `x` variable to `hue` and set `legend=False` for the same effect.\n",
      "\n",
      "  sns.boxplot(x = 'Attrition', y = 'YearsAtCompany', data = df, palette = 'Set2')\n"
     ]
    },
    {
     "ename": "TypeError",
     "evalue": "'str' object is not callable",
     "output_type": "error",
     "traceback": [
      "\u001b[31m---------------------------------------------------------------------------\u001b[39m",
      "\u001b[31mTypeError\u001b[39m                                 Traceback (most recent call last)",
      "\u001b[36mCell\u001b[39m\u001b[36m \u001b[39m\u001b[32mIn[52]\u001b[39m\u001b[32m, line 3\u001b[39m\n\u001b[32m      1\u001b[39m plt.figure(figsize =(\u001b[32m6\u001b[39m,\u001b[32m4\u001b[39m))\n\u001b[32m      2\u001b[39m sns.boxplot(x = \u001b[33m'\u001b[39m\u001b[33mAttrition\u001b[39m\u001b[33m'\u001b[39m, y = \u001b[33m'\u001b[39m\u001b[33mYearsAtCompany\u001b[39m\u001b[33m'\u001b[39m, data = df, palette = \u001b[33m'\u001b[39m\u001b[33mSet2\u001b[39m\u001b[33m'\u001b[39m)\n\u001b[32m----> \u001b[39m\u001b[32m3\u001b[39m \u001b[43mplt\u001b[49m\u001b[43m.\u001b[49m\u001b[43mtitle\u001b[49m\u001b[43m(\u001b[49m\u001b[33;43m\"\u001b[39;49m\u001b[33;43mYearsAtCompany vs Attrition\u001b[39;49m\u001b[33;43m\"\u001b[39;49m\u001b[43m)\u001b[49m\n\u001b[32m      4\u001b[39m plt.show()\n",
      "\u001b[31mTypeError\u001b[39m: 'str' object is not callable"
     ]
    },
    {
     "data": {
      "image/png": "[encoded data removed]",
      "text/plain": [
       "<Figure size 600x400 with 1 Axes>"
      ]
     },
     "metadata": {},
     "output_type": "display_data"
    }
   ],
   "source": [
    "# Box plot of  YearsAtCompany vs Attrition\n",
    "# 3\n",
    "plt.figure(figsize =(6,4))\n",
    "sns.boxplot(x = 'Attrition', y = 'YearsAtCompany', data = df, palette = 'Set2')\n",
    "plt.title(\"YearsAtCompany vs Attrition\")\n",
    "plt.show()"
   ]
  },
  {
   "cell_type": "code",
   "execution_count": 48,
   "id": "98dc5bd8-c01c-4e7e-9688-7d83ebe707cc",
   "metadata": {},
   "outputs": [
    {
     "data": {
      "text/html": [
       "<div>\n",
       "<style scoped>\n",
       "    .dataframe tbody tr th:only-of-type {\n",
       "        vertical-align: middle;\n",
       "    }\n",
       "\n",
       "    .dataframe tbody tr th {\n",
       "        vertical-align: top;\n",
       "    }\n",
       "\n",
       "    .dataframe thead th {\n",
       "        text-align: right;\n",
       "    }\n",
       "</style>\n",
       "<table border=\"1\" class=\"dataframe\">\n",
       "  <thead>\n",
       "    <tr style=\"text-align: right;\">\n",
       "      <th></th>\n",
       "      <th>count</th>\n",
       "      <th>mean</th>\n",
       "      <th>std</th>\n",
       "      <th>min</th>\n",
       "      <th>25%</th>\n",
       "      <th>50%</th>\n",
       "      <th>75%</th>\n",
       "      <th>max</th>\n",
       "    </tr>\n",
       "    <tr>\n",
       "      <th>Attrition</th>\n",
       "      <th></th>\n",
       "      <th></th>\n",
       "      <th></th>\n",
       "      <th></th>\n",
       "      <th></th>\n",
       "      <th></th>\n",
       "      <th></th>\n",
       "      <th></th>\n",
       "    </tr>\n",
       "  </thead>\n",
       "  <tbody>\n",
       "    <tr>\n",
       "      <th>No</th>\n",
       "      <td>1233.0</td>\n",
       "      <td>8.915653</td>\n",
       "      <td>8.012633</td>\n",
       "      <td>1.0</td>\n",
       "      <td>2.0</td>\n",
       "      <td>7.0</td>\n",
       "      <td>13.0</td>\n",
       "      <td>29.0</td>\n",
       "    </tr>\n",
       "    <tr>\n",
       "      <th>Yes</th>\n",
       "      <td>237.0</td>\n",
       "      <td>10.632911</td>\n",
       "      <td>8.452525</td>\n",
       "      <td>1.0</td>\n",
       "      <td>3.0</td>\n",
       "      <td>9.0</td>\n",
       "      <td>17.0</td>\n",
       "      <td>29.0</td>\n",
       "    </tr>\n",
       "  </tbody>\n",
       "</table>\n",
       "</div>"
      ],
      "text/plain": [
       "            count       mean       std  min  25%  50%   75%   max\n",
       "Attrition                                                        \n",
       "No         1233.0   8.915653  8.012633  1.0  2.0  7.0  13.0  29.0\n",
       "Yes         237.0  10.632911  8.452525  1.0  3.0  9.0  17.0  29.0"
      ]
     },
     "execution_count": 48,
     "metadata": {},
     "output_type": "execute_result"
    }
   ],
   "source": [
    "#  Bivariate Analysis (Numerical vs attrition)\n",
    "# DistanceFromHome vs Attrition\n",
    "#  4\n",
    "df.groupby('Attrition')['DistanceFromHome'].describe()"
   ]
  },
  {
   "cell_type": "code",
   "execution_count": 53,
   "id": "69c22ed2-bbe8-4683-8934-c72f78855c61",
   "metadata": {},
   "outputs": [
    {
     "name": "stderr",
     "output_type": "stream",
     "text": [
      "C:\\Users\\DIVYA BASANTRAY\\AppData\\Local\\Temp\\ipykernel_3260\\4158445763.py:4: FutureWarning: \n",
      "\n",
      "Passing `palette` without assigning `hue` is deprecated and will be removed in v0.14.0. Assign the `x` variable to `hue` and set `legend=False` for the same effect.\n",
      "\n",
      "  sns.boxplot(x = 'Attrition', y = 'DistanceFromHome', data = df, palette = 'Set2')\n"
     ]
    },
    {
     "ename": "TypeError",
     "evalue": "'str' object is not callable",
     "output_type": "error",
     "traceback": [
      "\u001b[31m---------------------------------------------------------------------------\u001b[39m",
      "\u001b[31mTypeError\u001b[39m                                 Traceback (most recent call last)",
      "\u001b[36mCell\u001b[39m\u001b[36m \u001b[39m\u001b[32mIn[53]\u001b[39m\u001b[32m, line 5\u001b[39m\n\u001b[32m      3\u001b[39m plt.figure(figsize = (\u001b[32m6\u001b[39m,\u001b[32m4\u001b[39m))\n\u001b[32m      4\u001b[39m sns.boxplot(x = \u001b[33m'\u001b[39m\u001b[33mAttrition\u001b[39m\u001b[33m'\u001b[39m, y = \u001b[33m'\u001b[39m\u001b[33mDistanceFromHome\u001b[39m\u001b[33m'\u001b[39m, data = df, palette = \u001b[33m'\u001b[39m\u001b[33mSet2\u001b[39m\u001b[33m'\u001b[39m)\n\u001b[32m----> \u001b[39m\u001b[32m5\u001b[39m \u001b[43mplt\u001b[49m\u001b[43m.\u001b[49m\u001b[43mtitle\u001b[49m\u001b[43m(\u001b[49m\u001b[33;43m\"\u001b[39;49m\u001b[33;43mDistanceFromHome vs Attrition\u001b[39;49m\u001b[33;43m\"\u001b[39;49m\u001b[43m)\u001b[49m\n\u001b[32m      6\u001b[39m plt.show()\n",
      "\u001b[31mTypeError\u001b[39m: 'str' object is not callable"
     ]
    },
    {
     "data": {
      "image/png": "[encoded data removed]",
      "text/plain": [
       "<Figure size 600x400 with 1 Axes>"
      ]
     },
     "metadata": {},
     "output_type": "display_data"
    }
   ],
   "source": [
    "# Box plot of  DistanceFromHome vs Attrition\n",
    "# 4\n",
    "plt.figure(figsize = (6,4))\n",
    "sns.boxplot(x = 'Attrition', y = 'DistanceFromHome', data = df, palette = 'Set2')\n",
    "plt.title(\"DistanceFromHome vs Attrition\")\n",
    "plt.show()"
   ]
  },
  {
   "cell_type": "code",
   "execution_count": 54,
   "id": "5e69768c-d05d-4104-aae6-4ed3908a9841",
   "metadata": {},
   "outputs": [
    {
     "data": {
      "text/html": [
       "<div>\n",
       "<style scoped>\n",
       "    .dataframe tbody tr th:only-of-type {\n",
       "        vertical-align: middle;\n",
       "    }\n",
       "\n",
       "    .dataframe tbody tr th {\n",
       "        vertical-align: top;\n",
       "    }\n",
       "\n",
       "    .dataframe thead th {\n",
       "        text-align: right;\n",
       "    }\n",
       "</style>\n",
       "<table border=\"1\" class=\"dataframe\">\n",
       "  <thead>\n",
       "    <tr style=\"text-align: right;\">\n",
       "      <th></th>\n",
       "      <th>count</th>\n",
       "      <th>mean</th>\n",
       "      <th>std</th>\n",
       "      <th>min</th>\n",
       "      <th>25%</th>\n",
       "      <th>50%</th>\n",
       "      <th>75%</th>\n",
       "      <th>max</th>\n",
       "    </tr>\n",
       "    <tr>\n",
       "      <th>Attrition</th>\n",
       "      <th></th>\n",
       "      <th></th>\n",
       "      <th></th>\n",
       "      <th></th>\n",
       "      <th></th>\n",
       "      <th></th>\n",
       "      <th></th>\n",
       "      <th></th>\n",
       "    </tr>\n",
       "  </thead>\n",
       "  <tbody>\n",
       "    <tr>\n",
       "      <th>No</th>\n",
       "      <td>1233.0</td>\n",
       "      <td>11.862936</td>\n",
       "      <td>7.760719</td>\n",
       "      <td>0.0</td>\n",
       "      <td>6.0</td>\n",
       "      <td>10.0</td>\n",
       "      <td>16.0</td>\n",
       "      <td>38.0</td>\n",
       "    </tr>\n",
       "    <tr>\n",
       "      <th>Yes</th>\n",
       "      <td>237.0</td>\n",
       "      <td>8.244726</td>\n",
       "      <td>7.169204</td>\n",
       "      <td>0.0</td>\n",
       "      <td>3.0</td>\n",
       "      <td>7.0</td>\n",
       "      <td>10.0</td>\n",
       "      <td>40.0</td>\n",
       "    </tr>\n",
       "  </tbody>\n",
       "</table>\n",
       "</div>"
      ],
      "text/plain": [
       "            count       mean       std  min  25%   50%   75%   max\n",
       "Attrition                                                         \n",
       "No         1233.0  11.862936  7.760719  0.0  6.0  10.0  16.0  38.0\n",
       "Yes         237.0   8.244726  7.169204  0.0  3.0   7.0  10.0  40.0"
      ]
     },
     "execution_count": 54,
     "metadata": {},
     "output_type": "execute_result"
    }
   ],
   "source": [
    "#  Bivariate Analysis (Numerical vs attrition)\n",
    "# TotalWorkingYears vs Attrition\n",
    "#  5\n",
    "df.groupby('Attrition')['TotalWorkingYears'].describe()"
   ]
  },
  {
   "cell_type": "code",
   "execution_count": 56,
   "id": "d1df01ed-ebca-4904-a7cb-93a77e0a45a9",
   "metadata": {},
   "outputs": [
    {
     "name": "stderr",
     "output_type": "stream",
     "text": [
      "C:\\Users\\DIVYA BASANTRAY\\AppData\\Local\\Temp\\ipykernel_3260\\3980365277.py:4: FutureWarning: \n",
      "\n",
      "Passing `palette` without assigning `hue` is deprecated and will be removed in v0.14.0. Assign the `x` variable to `hue` and set `legend=False` for the same effect.\n",
      "\n",
      "  sns.boxplot(x = 'Attrition', y = 'DistanceFromHome', data = df, palette = 'Set2')\n"
     ]
    },
    {
     "ename": "TypeError",
     "evalue": "'str' object is not callable",
     "output_type": "error",
     "traceback": [
      "\u001b[31m---------------------------------------------------------------------------\u001b[39m",
      "\u001b[31mTypeError\u001b[39m                                 Traceback (most recent call last)",
      "\u001b[36mCell\u001b[39m\u001b[36m \u001b[39m\u001b[32mIn[56]\u001b[39m\u001b[32m, line 5\u001b[39m\n\u001b[32m      3\u001b[39m plt.figure(figsize = (\u001b[32m6\u001b[39m,\u001b[32m4\u001b[39m))\n\u001b[32m      4\u001b[39m sns.boxplot(x = \u001b[33m'\u001b[39m\u001b[33mAttrition\u001b[39m\u001b[33m'\u001b[39m, y = \u001b[33m'\u001b[39m\u001b[33mDistanceFromHome\u001b[39m\u001b[33m'\u001b[39m, data = df, palette = \u001b[33m'\u001b[39m\u001b[33mSet2\u001b[39m\u001b[33m'\u001b[39m)\n\u001b[32m----> \u001b[39m\u001b[32m5\u001b[39m \u001b[43mplt\u001b[49m\u001b[43m.\u001b[49m\u001b[43mtitle\u001b[49m\u001b[43m(\u001b[49m\u001b[33;43m\"\u001b[39;49m\u001b[33;43mDistanceFromHome vs Attrition\u001b[39;49m\u001b[33;43m\"\u001b[39;49m\u001b[43m)\u001b[49m\n\u001b[32m      6\u001b[39m plt.show()\n",
      "\u001b[31mTypeError\u001b[39m: 'str' object is not callable"
     ]
    },
    {
     "data": {
      "image/png": "[encoded data removed]",
      "text/plain": [
       "<Figure size 600x400 with 1 Axes>"
      ]
     },
     "metadata": {},
     "output_type": "display_data"
    }
   ],
   "source": [
    "# Box plot of  DistanceFromHome vs Attrition\n",
    "# 5\n",
    "plt.figure(figsize = (6,4))\n",
    "sns.boxplot(x = 'Attrition', y = 'DistanceFromHome', data = df, palette = 'Set2')\n",
    "plt.title(\"DistanceFromHome vs Attrition\")\n",
    "plt.show()"
   ]
  },
  {
   "cell_type": "code",
   "execution_count": 57,
   "id": "47c34a1b-46b8-4daa-998b-ac747f05ec01",
   "metadata": {},
   "outputs": [
    {
     "data": {
      "text/html": [
       "<div>\n",
       "<style scoped>\n",
       "    .dataframe tbody tr th:only-of-type {\n",
       "        vertical-align: middle;\n",
       "    }\n",
       "\n",
       "    .dataframe tbody tr th {\n",
       "        vertical-align: top;\n",
       "    }\n",
       "\n",
       "    .dataframe thead th {\n",
       "        text-align: right;\n",
       "    }\n",
       "</style>\n",
       "<table border=\"1\" class=\"dataframe\">\n",
       "  <thead>\n",
       "    <tr style=\"text-align: right;\">\n",
       "      <th></th>\n",
       "      <th>count</th>\n",
       "      <th>mean</th>\n",
       "      <th>std</th>\n",
       "      <th>min</th>\n",
       "      <th>25%</th>\n",
       "      <th>50%</th>\n",
       "      <th>75%</th>\n",
       "      <th>max</th>\n",
       "    </tr>\n",
       "    <tr>\n",
       "      <th>Attrition</th>\n",
       "      <th></th>\n",
       "      <th></th>\n",
       "      <th></th>\n",
       "      <th></th>\n",
       "      <th></th>\n",
       "      <th></th>\n",
       "      <th></th>\n",
       "      <th></th>\n",
       "    </tr>\n",
       "  </thead>\n",
       "  <tbody>\n",
       "    <tr>\n",
       "      <th>No</th>\n",
       "      <td>1233.0</td>\n",
       "      <td>4.484185</td>\n",
       "      <td>3.649402</td>\n",
       "      <td>0.0</td>\n",
       "      <td>2.0</td>\n",
       "      <td>3.0</td>\n",
       "      <td>7.0</td>\n",
       "      <td>18.0</td>\n",
       "    </tr>\n",
       "    <tr>\n",
       "      <th>Yes</th>\n",
       "      <td>237.0</td>\n",
       "      <td>2.902954</td>\n",
       "      <td>3.174827</td>\n",
       "      <td>0.0</td>\n",
       "      <td>0.0</td>\n",
       "      <td>2.0</td>\n",
       "      <td>4.0</td>\n",
       "      <td>15.0</td>\n",
       "    </tr>\n",
       "  </tbody>\n",
       "</table>\n",
       "</div>"
      ],
      "text/plain": [
       "            count      mean       std  min  25%  50%  75%   max\n",
       "Attrition                                                      \n",
       "No         1233.0  4.484185  3.649402  0.0  2.0  3.0  7.0  18.0\n",
       "Yes         237.0  2.902954  3.174827  0.0  0.0  2.0  4.0  15.0"
      ]
     },
     "execution_count": 57,
     "metadata": {},
     "output_type": "execute_result"
    }
   ],
   "source": [
    "#  Bivariate Analysis (Numerical vs attrition)\n",
    "# YearsInCurrentRole vs Attrition\n",
    "#  6\n",
    "df.groupby('Attrition')['YearsInCurrentRole'].describe()"
   ]
  },
  {
   "cell_type": "code",
   "execution_count": 58,
   "id": "85a8e169-8d5b-4f47-9fbe-ea625cfc0d90",
   "metadata": {},
   "outputs": [
    {
     "name": "stderr",
     "output_type": "stream",
     "text": [
      "C:\\Users\\DIVYA BASANTRAY\\AppData\\Local\\Temp\\ipykernel_3260\\1038490385.py:4: FutureWarning: \n",
      "\n",
      "Passing `palette` without assigning `hue` is deprecated and will be removed in v0.14.0. Assign the `x` variable to `hue` and set `legend=False` for the same effect.\n",
      "\n",
      "  sns.boxplot(x = 'Attrition', y = 'YearsInCurrentRole', data = df, palette = 'Set2')\n"
     ]
    },
    {
     "ename": "TypeError",
     "evalue": "'str' object is not callable",
     "output_type": "error",
     "traceback": [
      "\u001b[31m---------------------------------------------------------------------------\u001b[39m",
      "\u001b[31mTypeError\u001b[39m                                 Traceback (most recent call last)",
      "\u001b[36mCell\u001b[39m\u001b[36m \u001b[39m\u001b[32mIn[58]\u001b[39m\u001b[32m, line 5\u001b[39m\n\u001b[32m      3\u001b[39m plt.figure(figsize = (\u001b[32m6\u001b[39m,\u001b[32m4\u001b[39m))\n\u001b[32m      4\u001b[39m sns.boxplot(x = \u001b[33m'\u001b[39m\u001b[33mAttrition\u001b[39m\u001b[33m'\u001b[39m, y = \u001b[33m'\u001b[39m\u001b[33mYearsInCurrentRole\u001b[39m\u001b[33m'\u001b[39m, data = df, palette = \u001b[33m'\u001b[39m\u001b[33mSet2\u001b[39m\u001b[33m'\u001b[39m)\n\u001b[32m----> \u001b[39m\u001b[32m5\u001b[39m \u001b[43mplt\u001b[49m\u001b[43m.\u001b[49m\u001b[43mtitle\u001b[49m\u001b[43m(\u001b[49m\u001b[33;43m\"\u001b[39;49m\u001b[33;43mYearsInCurrentRole vs Attrition\u001b[39;49m\u001b[33;43m\"\u001b[39;49m\u001b[43m)\u001b[49m\n\u001b[32m      6\u001b[39m plt.show()\n",
      "\u001b[31mTypeError\u001b[39m: 'str' object is not callable"
     ]
    },
    {
     "data": {
      "image/png": "[encoded data removed]",
      "text/plain": [
       "<Figure size 600x400 with 1 Axes>"
      ]
     },
     "metadata": {},
     "output_type": "display_data"
    }
   ],
   "source": [
    "# Box plot of  YearsInCurrentRole vs Attrition\n",
    "# 6\n",
    "plt.figure(figsize = (6,4))\n",
    "sns.boxplot(x = 'Attrition', y = 'YearsInCurrentRole', data = df, palette = 'Set2')\n",
    "plt.title(\"YearsInCurrentRole vs Attrition\")\n",
    "plt.show()"
   ]
  },
  {
   "cell_type": "code",
   "execution_count": 59,
   "id": "b73b90de-e701-4695-995f-1f9a41f28eec",
   "metadata": {},
   "outputs": [
    {
     "data": {
      "text/html": [
       "<div>\n",
       "<style scoped>\n",
       "    .dataframe tbody tr th:only-of-type {\n",
       "        vertical-align: middle;\n",
       "    }\n",
       "\n",
       "    .dataframe tbody tr th {\n",
       "        vertical-align: top;\n",
       "    }\n",
       "\n",
       "    .dataframe thead th {\n",
       "        text-align: right;\n",
       "    }\n",
       "</style>\n",
       "<table border=\"1\" class=\"dataframe\">\n",
       "  <thead>\n",
       "    <tr style=\"text-align: right;\">\n",
       "      <th></th>\n",
       "      <th>count</th>\n",
       "      <th>mean</th>\n",
       "      <th>std</th>\n",
       "      <th>min</th>\n",
       "      <th>25%</th>\n",
       "      <th>50%</th>\n",
       "      <th>75%</th>\n",
       "      <th>max</th>\n",
       "    </tr>\n",
       "    <tr>\n",
       "      <th>Attrition</th>\n",
       "      <th></th>\n",
       "      <th></th>\n",
       "      <th></th>\n",
       "      <th></th>\n",
       "      <th></th>\n",
       "      <th></th>\n",
       "      <th></th>\n",
       "      <th></th>\n",
       "    </tr>\n",
       "  </thead>\n",
       "  <tbody>\n",
       "    <tr>\n",
       "      <th>No</th>\n",
       "      <td>1233.0</td>\n",
       "      <td>4.367397</td>\n",
       "      <td>3.594116</td>\n",
       "      <td>0.0</td>\n",
       "      <td>2.0</td>\n",
       "      <td>3.0</td>\n",
       "      <td>7.0</td>\n",
       "      <td>17.0</td>\n",
       "    </tr>\n",
       "    <tr>\n",
       "      <th>Yes</th>\n",
       "      <td>237.0</td>\n",
       "      <td>2.852321</td>\n",
       "      <td>3.143349</td>\n",
       "      <td>0.0</td>\n",
       "      <td>0.0</td>\n",
       "      <td>2.0</td>\n",
       "      <td>5.0</td>\n",
       "      <td>14.0</td>\n",
       "    </tr>\n",
       "  </tbody>\n",
       "</table>\n",
       "</div>"
      ],
      "text/plain": [
       "            count      mean       std  min  25%  50%  75%   max\n",
       "Attrition                                                      \n",
       "No         1233.0  4.367397  3.594116  0.0  2.0  3.0  7.0  17.0\n",
       "Yes         237.0  2.852321  3.143349  0.0  0.0  2.0  5.0  14.0"
      ]
     },
     "execution_count": 59,
     "metadata": {},
     "output_type": "execute_result"
    }
   ],
   "source": [
    "#  Bivariate Analysis (Numerical vs attrition)\n",
    "# YearsWithCurrManager vs Attrition\n",
    "#  7\n",
    "df.groupby('Attrition')['YearsWithCurrManager'].describe()"
   ]
  },
  {
   "cell_type": "code",
   "execution_count": 60,
   "id": "ad691337-5048-4468-a020-014eb280705d",
   "metadata": {},
   "outputs": [
    {
     "name": "stderr",
     "output_type": "stream",
     "text": [
      "C:\\Users\\DIVYA BASANTRAY\\AppData\\Local\\Temp\\ipykernel_3260\\35675659.py:4: FutureWarning: \n",
      "\n",
      "Passing `palette` without assigning `hue` is deprecated and will be removed in v0.14.0. Assign the `x` variable to `hue` and set `legend=False` for the same effect.\n",
      "\n",
      "  sns.boxplot(x = 'Attrition', y = 'YearsWithCurrManager', data = df, palette = 'Set2')\n"
     ]
    },
    {
     "ename": "TypeError",
     "evalue": "'str' object is not callable",
     "output_type": "error",
     "traceback": [
      "\u001b[31m---------------------------------------------------------------------------\u001b[39m",
      "\u001b[31mTypeError\u001b[39m                                 Traceback (most recent call last)",
      "\u001b[36mCell\u001b[39m\u001b[36m \u001b[39m\u001b[32mIn[60]\u001b[39m\u001b[32m, line 5\u001b[39m\n\u001b[32m      3\u001b[39m plt.figure(figsize = (\u001b[32m6\u001b[39m,\u001b[32m4\u001b[39m))\n\u001b[32m      4\u001b[39m sns.boxplot(x = \u001b[33m'\u001b[39m\u001b[33mAttrition\u001b[39m\u001b[33m'\u001b[39m, y = \u001b[33m'\u001b[39m\u001b[33mYearsWithCurrManager\u001b[39m\u001b[33m'\u001b[39m, data = df, palette = \u001b[33m'\u001b[39m\u001b[33mSet2\u001b[39m\u001b[33m'\u001b[39m)\n\u001b[32m----> \u001b[39m\u001b[32m5\u001b[39m \u001b[43mplt\u001b[49m\u001b[43m.\u001b[49m\u001b[43mtitle\u001b[49m\u001b[43m(\u001b[49m\u001b[33;43m\"\u001b[39;49m\u001b[33;43mYearsWithCurrManager vs Attrition\u001b[39;49m\u001b[33;43m\"\u001b[39;49m\u001b[43m)\u001b[49m\n\u001b[32m      6\u001b[39m plt.show()\n",
      "\u001b[31mTypeError\u001b[39m: 'str' object is not callable"
     ]
    },
    {
     "data": {
      "image/png": "[encoded data removed]",
      "text/plain": [
       "<Figure size 600x400 with 1 Axes>"
      ]
     },
     "metadata": {},
     "output_type": "display_data"
    }
   ],
   "source": [
    "# Box plot of  YearsWithCurrManager vs Attrition\n",
    "# 7\n",
    "plt.figure(figsize = (6,4))\n",
    "sns.boxplot(x = 'Attrition', y = 'YearsWithCurrManager', data = df, palette = 'Set2')\n",
    "plt.title(\"YearsWithCurrManager vs Attrition\")\n",
    "plt.show()"
   ]
  },
  {
   "cell_type": "code",
   "execution_count": 61,
   "id": "84a614eb-a573-4226-8b78-0a6b4faee484",
   "metadata": {},
   "outputs": [
    {
     "data": {
      "text/html": [
       "<div>\n",
       "<style scoped>\n",
       "    .dataframe tbody tr th:only-of-type {\n",
       "        vertical-align: middle;\n",
       "    }\n",
       "\n",
       "    .dataframe tbody tr th {\n",
       "        vertical-align: top;\n",
       "    }\n",
       "\n",
       "    .dataframe thead th {\n",
       "        text-align: right;\n",
       "    }\n",
       "</style>\n",
       "<table border=\"1\" class=\"dataframe\">\n",
       "  <thead>\n",
       "    <tr style=\"text-align: right;\">\n",
       "      <th></th>\n",
       "      <th>count</th>\n",
       "      <th>mean</th>\n",
       "      <th>std</th>\n",
       "      <th>min</th>\n",
       "      <th>25%</th>\n",
       "      <th>50%</th>\n",
       "      <th>75%</th>\n",
       "      <th>max</th>\n",
       "    </tr>\n",
       "    <tr>\n",
       "      <th>Attrition</th>\n",
       "      <th></th>\n",
       "      <th></th>\n",
       "      <th></th>\n",
       "      <th></th>\n",
       "      <th></th>\n",
       "      <th></th>\n",
       "      <th></th>\n",
       "      <th></th>\n",
       "    </tr>\n",
       "  </thead>\n",
       "  <tbody>\n",
       "    <tr>\n",
       "      <th>No</th>\n",
       "      <td>1233.0</td>\n",
       "      <td>2.234388</td>\n",
       "      <td>3.234762</td>\n",
       "      <td>0.0</td>\n",
       "      <td>0.0</td>\n",
       "      <td>1.0</td>\n",
       "      <td>3.0</td>\n",
       "      <td>15.0</td>\n",
       "    </tr>\n",
       "    <tr>\n",
       "      <th>Yes</th>\n",
       "      <td>237.0</td>\n",
       "      <td>1.945148</td>\n",
       "      <td>3.153077</td>\n",
       "      <td>0.0</td>\n",
       "      <td>0.0</td>\n",
       "      <td>1.0</td>\n",
       "      <td>2.0</td>\n",
       "      <td>15.0</td>\n",
       "    </tr>\n",
       "  </tbody>\n",
       "</table>\n",
       "</div>"
      ],
      "text/plain": [
       "            count      mean       std  min  25%  50%  75%   max\n",
       "Attrition                                                      \n",
       "No         1233.0  2.234388  3.234762  0.0  0.0  1.0  3.0  15.0\n",
       "Yes         237.0  1.945148  3.153077  0.0  0.0  1.0  2.0  15.0"
      ]
     },
     "execution_count": 61,
     "metadata": {},
     "output_type": "execute_result"
    }
   ],
   "source": [
    "#  Bivariate Analysis (Numerical vs attrition)\n",
    "# YearsSinceLastPromotion vs Attrition\n",
    "#  8\n",
    "df.groupby('Attrition')['YearsSinceLastPromotion'].describe()"
   ]
  },
  {
   "cell_type": "code",
   "execution_count": 62,
   "id": "715b6fc9-baff-4a72-94d7-c2d935c07603",
   "metadata": {},
   "outputs": [
    {
     "name": "stderr",
     "output_type": "stream",
     "text": [
      "C:\\Users\\DIVYA BASANTRAY\\AppData\\Local\\Temp\\ipykernel_3260\\979394843.py:4: FutureWarning: \n",
      "\n",
      "Passing `palette` without assigning `hue` is deprecated and will be removed in v0.14.0. Assign the `x` variable to `hue` and set `legend=False` for the same effect.\n",
      "\n",
      "  sns.boxplot(x = 'Attrition', y = 'YearsSinceLastPromotion', data = df, palette = 'Set2')\n"
     ]
    },
    {
     "ename": "TypeError",
     "evalue": "'str' object is not callable",
     "output_type": "error",
     "traceback": [
      "\u001b[31m---------------------------------------------------------------------------\u001b[39m",
      "\u001b[31mTypeError\u001b[39m                                 Traceback (most recent call last)",
      "\u001b[36mCell\u001b[39m\u001b[36m \u001b[39m\u001b[32mIn[62]\u001b[39m\u001b[32m, line 5\u001b[39m\n\u001b[32m      3\u001b[39m plt.figure(figsize = (\u001b[32m6\u001b[39m,\u001b[32m4\u001b[39m))\n\u001b[32m      4\u001b[39m sns.boxplot(x = \u001b[33m'\u001b[39m\u001b[33mAttrition\u001b[39m\u001b[33m'\u001b[39m, y = \u001b[33m'\u001b[39m\u001b[33mYearsSinceLastPromotion\u001b[39m\u001b[33m'\u001b[39m, data = df, palette = \u001b[33m'\u001b[39m\u001b[33mSet2\u001b[39m\u001b[33m'\u001b[39m)\n\u001b[32m----> \u001b[39m\u001b[32m5\u001b[39m \u001b[43mplt\u001b[49m\u001b[43m.\u001b[49m\u001b[43mtitle\u001b[49m\u001b[43m(\u001b[49m\u001b[33;43m\"\u001b[39;49m\u001b[33;43mYearsSinceLastPromotion vs Attrition\u001b[39;49m\u001b[33;43m\"\u001b[39;49m\u001b[43m)\u001b[49m\n\u001b[32m      6\u001b[39m plt.show()\n",
      "\u001b[31mTypeError\u001b[39m: 'str' object is not callable"
     ]
    },
    {
     "data": {
      "image/png": "[encoded data removed]",
      "text/plain": [
       "<Figure size 600x400 with 1 Axes>"
      ]
     },
     "metadata": {},
     "output_type": "display_data"
    }
   ],
   "source": [
    "# Box plot of  YearsSinceLastPromotion vs Attrition\n",
    "# 5\n",
    "plt.figure(figsize = (6,4))\n",
    "sns.boxplot(x = 'Attrition', y = 'YearsSinceLastPromotion', data = df, palette = 'Set2')\n",
    "plt.title(\"YearsSinceLastPromotion vs Attrition\")\n",
    "plt.show()"
   ]
  },
  {
   "cell_type": "code",
   "execution_count": 63,
   "id": "14e6692f-b474-44f6-ba9e-3e58afa34a64",
   "metadata": {},
   "outputs": [
    {
     "data": {
      "text/html": [
       "<div>\n",
       "<style scoped>\n",
       "    .dataframe tbody tr th:only-of-type {\n",
       "        vertical-align: middle;\n",
       "    }\n",
       "\n",
       "    .dataframe tbody tr th {\n",
       "        vertical-align: top;\n",
       "    }\n",
       "\n",
       "    .dataframe thead th {\n",
       "        text-align: right;\n",
       "    }\n",
       "</style>\n",
       "<table border=\"1\" class=\"dataframe\">\n",
       "  <thead>\n",
       "    <tr style=\"text-align: right;\">\n",
       "      <th></th>\n",
       "      <th>count</th>\n",
       "      <th>mean</th>\n",
       "      <th>std</th>\n",
       "      <th>min</th>\n",
       "      <th>25%</th>\n",
       "      <th>50%</th>\n",
       "      <th>75%</th>\n",
       "      <th>max</th>\n",
       "    </tr>\n",
       "    <tr>\n",
       "      <th>Attrition</th>\n",
       "      <th></th>\n",
       "      <th></th>\n",
       "      <th></th>\n",
       "      <th></th>\n",
       "      <th></th>\n",
       "      <th></th>\n",
       "      <th></th>\n",
       "      <th></th>\n",
       "    </tr>\n",
       "  </thead>\n",
       "  <tbody>\n",
       "    <tr>\n",
       "      <th>No</th>\n",
       "      <td>1233.0</td>\n",
       "      <td>3.153285</td>\n",
       "      <td>0.360408</td>\n",
       "      <td>3.0</td>\n",
       "      <td>3.0</td>\n",
       "      <td>3.0</td>\n",
       "      <td>3.0</td>\n",
       "      <td>4.0</td>\n",
       "    </tr>\n",
       "    <tr>\n",
       "      <th>Yes</th>\n",
       "      <td>237.0</td>\n",
       "      <td>3.156118</td>\n",
       "      <td>0.363735</td>\n",
       "      <td>3.0</td>\n",
       "      <td>3.0</td>\n",
       "      <td>3.0</td>\n",
       "      <td>3.0</td>\n",
       "      <td>4.0</td>\n",
       "    </tr>\n",
       "  </tbody>\n",
       "</table>\n",
       "</div>"
      ],
      "text/plain": [
       "            count      mean       std  min  25%  50%  75%  max\n",
       "Attrition                                                     \n",
       "No         1233.0  3.153285  0.360408  3.0  3.0  3.0  3.0  4.0\n",
       "Yes         237.0  3.156118  0.363735  3.0  3.0  3.0  3.0  4.0"
      ]
     },
     "execution_count": 63,
     "metadata": {},
     "output_type": "execute_result"
    }
   ],
   "source": [
    "#  Bivariate Analysis (Numerical vs attrition)\n",
    "# PerformanceRating vs Attrition\n",
    "#  9\n",
    "df.groupby('Attrition')['PerformanceRating'].describe()"
   ]
  },
  {
   "cell_type": "code",
   "execution_count": 64,
   "id": "c6987442-bca6-4da6-8d0b-dc41fae88610",
   "metadata": {},
   "outputs": [
    {
     "name": "stderr",
     "output_type": "stream",
     "text": [
      "C:\\Users\\DIVYA BASANTRAY\\AppData\\Local\\Temp\\ipykernel_3260\\2729788404.py:4: FutureWarning: \n",
      "\n",
      "Passing `palette` without assigning `hue` is deprecated and will be removed in v0.14.0. Assign the `x` variable to `hue` and set `legend=False` for the same effect.\n",
      "\n",
      "  sns.boxplot(x = 'Attrition', y = 'PerformanceRating', data = df, palette = 'Set2')\n"
     ]
    },
    {
     "ename": "TypeError",
     "evalue": "'str' object is not callable",
     "output_type": "error",
     "traceback": [
      "\u001b[31m---------------------------------------------------------------------------\u001b[39m",
      "\u001b[31mTypeError\u001b[39m                                 Traceback (most recent call last)",
      "\u001b[36mCell\u001b[39m\u001b[36m \u001b[39m\u001b[32mIn[64]\u001b[39m\u001b[32m, line 5\u001b[39m\n\u001b[32m      3\u001b[39m plt.figure(figsize = (\u001b[32m6\u001b[39m,\u001b[32m4\u001b[39m))\n\u001b[32m      4\u001b[39m sns.boxplot(x = \u001b[33m'\u001b[39m\u001b[33mAttrition\u001b[39m\u001b[33m'\u001b[39m, y = \u001b[33m'\u001b[39m\u001b[33mPerformanceRating\u001b[39m\u001b[33m'\u001b[39m, data = df, palette = \u001b[33m'\u001b[39m\u001b[33mSet2\u001b[39m\u001b[33m'\u001b[39m)\n\u001b[32m----> \u001b[39m\u001b[32m5\u001b[39m \u001b[43mplt\u001b[49m\u001b[43m.\u001b[49m\u001b[43mtitle\u001b[49m\u001b[43m(\u001b[49m\u001b[33;43m\"\u001b[39;49m\u001b[33;43mPerformanceRating vs Attrition\u001b[39;49m\u001b[33;43m\"\u001b[39;49m\u001b[43m)\u001b[49m\n\u001b[32m      6\u001b[39m plt.show()\n",
      "\u001b[31mTypeError\u001b[39m: 'str' object is not callable"
     ]
    },
    {
     "data": {
      "image/png": "[encoded data removed]",
      "text/plain": [
       "<Figure size 600x400 with 1 Axes>"
      ]
     },
     "metadata": {},
     "output_type": "display_data"
    }
   ],
   "source": [
    "# Box plot of  PerformanceRating vs Attrition\n",
    "# 9\n",
    "plt.figure(figsize = (6,4))\n",
    "sns.boxplot(x = 'Attrition', y = 'PerformanceRating', data = df, palette = 'Set2')\n",
    "plt.title(\"PerformanceRating vs Attrition\")\n",
    "plt.show()"
   ]
  },
  {
   "cell_type": "code",
   "execution_count": 65,
   "id": "331d088b-bbbb-41b6-ac40-6f9f6678a1a8",
   "metadata": {},
   "outputs": [
    {
     "data": {
      "text/html": [
       "<div>\n",
       "<style scoped>\n",
       "    .dataframe tbody tr th:only-of-type {\n",
       "        vertical-align: middle;\n",
       "    }\n",
       "\n",
       "    .dataframe tbody tr th {\n",
       "        vertical-align: top;\n",
       "    }\n",
       "\n",
       "    .dataframe thead th {\n",
       "        text-align: right;\n",
       "    }\n",
       "</style>\n",
       "<table border=\"1\" class=\"dataframe\">\n",
       "  <thead>\n",
       "    <tr style=\"text-align: right;\">\n",
       "      <th></th>\n",
       "      <th>count</th>\n",
       "      <th>mean</th>\n",
       "      <th>std</th>\n",
       "      <th>min</th>\n",
       "      <th>25%</th>\n",
       "      <th>50%</th>\n",
       "      <th>75%</th>\n",
       "      <th>max</th>\n",
       "    </tr>\n",
       "    <tr>\n",
       "      <th>Attrition</th>\n",
       "      <th></th>\n",
       "      <th></th>\n",
       "      <th></th>\n",
       "      <th></th>\n",
       "      <th></th>\n",
       "      <th></th>\n",
       "      <th></th>\n",
       "      <th></th>\n",
       "    </tr>\n",
       "  </thead>\n",
       "  <tbody>\n",
       "    <tr>\n",
       "      <th>No</th>\n",
       "      <td>1233.0</td>\n",
       "      <td>0.845093</td>\n",
       "      <td>0.841985</td>\n",
       "      <td>0.0</td>\n",
       "      <td>0.0</td>\n",
       "      <td>1.0</td>\n",
       "      <td>1.0</td>\n",
       "      <td>3.0</td>\n",
       "    </tr>\n",
       "    <tr>\n",
       "      <th>Yes</th>\n",
       "      <td>237.0</td>\n",
       "      <td>0.527426</td>\n",
       "      <td>0.856361</td>\n",
       "      <td>0.0</td>\n",
       "      <td>0.0</td>\n",
       "      <td>0.0</td>\n",
       "      <td>1.0</td>\n",
       "      <td>3.0</td>\n",
       "    </tr>\n",
       "  </tbody>\n",
       "</table>\n",
       "</div>"
      ],
      "text/plain": [
       "            count      mean       std  min  25%  50%  75%  max\n",
       "Attrition                                                     \n",
       "No         1233.0  0.845093  0.841985  0.0  0.0  1.0  1.0  3.0\n",
       "Yes         237.0  0.527426  0.856361  0.0  0.0  0.0  1.0  3.0"
      ]
     },
     "execution_count": 65,
     "metadata": {},
     "output_type": "execute_result"
    }
   ],
   "source": [
    "#  Bivariate Analysis (Numerical vs attrition)\n",
    "# StockOptionLevel vs Attrition\n",
    "#  10\n",
    "df.groupby('Attrition')['StockOptionLevel'].describe()"
   ]
  },
  {
   "cell_type": "code",
   "execution_count": 66,
   "id": "10844f41-82b2-4def-9253-03bd918039ce",
   "metadata": {},
   "outputs": [
    {
     "name": "stderr",
     "output_type": "stream",
     "text": [
      "C:\\Users\\DIVYA BASANTRAY\\AppData\\Local\\Temp\\ipykernel_3260\\1031325910.py:4: FutureWarning: \n",
      "\n",
      "Passing `palette` without assigning `hue` is deprecated and will be removed in v0.14.0. Assign the `x` variable to `hue` and set `legend=False` for the same effect.\n",
      "\n",
      "  sns.boxplot(x = 'Attrition', y = 'StockOptionLevel', data = df, palette = 'Set2')\n"
     ]
    },
    {
     "ename": "TypeError",
     "evalue": "'str' object is not callable",
     "output_type": "error",
     "traceback": [
      "\u001b[31m---------------------------------------------------------------------------\u001b[39m",
      "\u001b[31mTypeError\u001b[39m                                 Traceback (most recent call last)",
      "\u001b[36mCell\u001b[39m\u001b[36m \u001b[39m\u001b[32mIn[66]\u001b[39m\u001b[32m, line 5\u001b[39m\n\u001b[32m      3\u001b[39m plt.figure(figsize = (\u001b[32m6\u001b[39m,\u001b[32m4\u001b[39m))\n\u001b[32m      4\u001b[39m sns.boxplot(x = \u001b[33m'\u001b[39m\u001b[33mAttrition\u001b[39m\u001b[33m'\u001b[39m, y = \u001b[33m'\u001b[39m\u001b[33mStockOptionLevel\u001b[39m\u001b[33m'\u001b[39m, data = df, palette = \u001b[33m'\u001b[39m\u001b[33mSet2\u001b[39m\u001b[33m'\u001b[39m)\n\u001b[32m----> \u001b[39m\u001b[32m5\u001b[39m \u001b[43mplt\u001b[49m\u001b[43m.\u001b[49m\u001b[43mtitle\u001b[49m\u001b[43m(\u001b[49m\u001b[33;43m\"\u001b[39;49m\u001b[33;43mStockOptionLevel vs Attrition\u001b[39;49m\u001b[33;43m\"\u001b[39;49m\u001b[43m)\u001b[49m\n\u001b[32m      6\u001b[39m plt.show()\n",
      "\u001b[31mTypeError\u001b[39m: 'str' object is not callable"
     ]
    },
    {
     "data": {
      "image/png": "[encoded data removed]",
      "text/plain": [
       "<Figure size 600x400 with 1 Axes>"
      ]
     },
     "metadata": {},
     "output_type": "display_data"
    }
   ],
   "source": [
    "# Box plot of  StockOptionLevel vs Attrition\n",
    "# 10\n",
    "plt.figure(figsize = (6,4))\n",
    "sns.boxplot(x = 'Attrition', y = 'StockOptionLevel', data = df, palette = 'Set2')\n",
    "plt.title(\"StockOptionLevel vs Attrition\")\n",
    "plt.show()"
   ]
  },
  {
   "cell_type": "code",
   "execution_count": 67,
   "id": "fdf82766-2a42-4e58-bb06-bfd33a0e1349",
   "metadata": {},
   "outputs": [
    {
     "data": {
      "text/html": [
       "<div>\n",
       "<style scoped>\n",
       "    .dataframe tbody tr th:only-of-type {\n",
       "        vertical-align: middle;\n",
       "    }\n",
       "\n",
       "    .dataframe tbody tr th {\n",
       "        vertical-align: top;\n",
       "    }\n",
       "\n",
       "    .dataframe thead th {\n",
       "        text-align: right;\n",
       "    }\n",
       "</style>\n",
       "<table border=\"1\" class=\"dataframe\">\n",
       "  <thead>\n",
       "    <tr style=\"text-align: right;\">\n",
       "      <th></th>\n",
       "      <th>count</th>\n",
       "      <th>mean</th>\n",
       "      <th>std</th>\n",
       "      <th>min</th>\n",
       "      <th>25%</th>\n",
       "      <th>50%</th>\n",
       "      <th>75%</th>\n",
       "      <th>max</th>\n",
       "    </tr>\n",
       "    <tr>\n",
       "      <th>Attrition</th>\n",
       "      <th></th>\n",
       "      <th></th>\n",
       "      <th></th>\n",
       "      <th></th>\n",
       "      <th></th>\n",
       "      <th></th>\n",
       "      <th></th>\n",
       "      <th></th>\n",
       "    </tr>\n",
       "  </thead>\n",
       "  <tbody>\n",
       "    <tr>\n",
       "      <th>No</th>\n",
       "      <td>1233.0</td>\n",
       "      <td>2.832928</td>\n",
       "      <td>1.293585</td>\n",
       "      <td>0.0</td>\n",
       "      <td>2.0</td>\n",
       "      <td>3.0</td>\n",
       "      <td>3.0</td>\n",
       "      <td>6.0</td>\n",
       "    </tr>\n",
       "    <tr>\n",
       "      <th>Yes</th>\n",
       "      <td>237.0</td>\n",
       "      <td>2.624473</td>\n",
       "      <td>1.254784</td>\n",
       "      <td>0.0</td>\n",
       "      <td>2.0</td>\n",
       "      <td>2.0</td>\n",
       "      <td>3.0</td>\n",
       "      <td>6.0</td>\n",
       "    </tr>\n",
       "  </tbody>\n",
       "</table>\n",
       "</div>"
      ],
      "text/plain": [
       "            count      mean       std  min  25%  50%  75%  max\n",
       "Attrition                                                     \n",
       "No         1233.0  2.832928  1.293585  0.0  2.0  3.0  3.0  6.0\n",
       "Yes         237.0  2.624473  1.254784  0.0  2.0  2.0  3.0  6.0"
      ]
     },
     "execution_count": 67,
     "metadata": {},
     "output_type": "execute_result"
    }
   ],
   "source": [
    "#  Bivariate Analysis (Numerical vs attrition)\n",
    "# TrainingTimesLastYear vs Attrition\n",
    "#  11\n",
    "df.groupby('Attrition')['TrainingTimesLastYear'].describe()"
   ]
  },
  {
   "cell_type": "code",
   "execution_count": 68,
   "id": "7322b14d-0097-4c1c-8324-684fd244129e",
   "metadata": {},
   "outputs": [
    {
     "name": "stderr",
     "output_type": "stream",
     "text": [
      "C:\\Users\\DIVYA BASANTRAY\\AppData\\Local\\Temp\\ipykernel_3260\\4282896134.py:4: FutureWarning: \n",
      "\n",
      "Passing `palette` without assigning `hue` is deprecated and will be removed in v0.14.0. Assign the `x` variable to `hue` and set `legend=False` for the same effect.\n",
      "\n",
      "  sns.boxplot(x = 'Attrition', y = 'TrainingTimesLastYear', data = df, palette = 'Set2')\n"
     ]
    },
    {
     "ename": "TypeError",
     "evalue": "'str' object is not callable",
     "output_type": "error",
     "traceback": [
      "\u001b[31m---------------------------------------------------------------------------\u001b[39m",
      "\u001b[31mTypeError\u001b[39m                                 Traceback (most recent call last)",
      "\u001b[36mCell\u001b[39m\u001b[36m \u001b[39m\u001b[32mIn[68]\u001b[39m\u001b[32m, line 5\u001b[39m\n\u001b[32m      3\u001b[39m plt.figure(figsize = (\u001b[32m6\u001b[39m,\u001b[32m4\u001b[39m))\n\u001b[32m      4\u001b[39m sns.boxplot(x = \u001b[33m'\u001b[39m\u001b[33mAttrition\u001b[39m\u001b[33m'\u001b[39m, y = \u001b[33m'\u001b[39m\u001b[33mTrainingTimesLastYear\u001b[39m\u001b[33m'\u001b[39m, data = df, palette = \u001b[33m'\u001b[39m\u001b[33mSet2\u001b[39m\u001b[33m'\u001b[39m)\n\u001b[32m----> \u001b[39m\u001b[32m5\u001b[39m \u001b[43mplt\u001b[49m\u001b[43m.\u001b[49m\u001b[43mtitle\u001b[49m\u001b[43m(\u001b[49m\u001b[33;43m\"\u001b[39;49m\u001b[33;43mTrainingTimesLastYear vs Attrition\u001b[39;49m\u001b[33;43m\"\u001b[39;49m\u001b[43m)\u001b[49m\n\u001b[32m      6\u001b[39m plt.show()\n",
      "\u001b[31mTypeError\u001b[39m: 'str' object is not callable"
     ]
    },
    {
     "data": {
      "image/png": "[encoded data removed]",
      "text/plain": [
       "<Figure size 600x400 with 1 Axes>"
      ]
     },
     "metadata": {},
     "output_type": "display_data"
    }
   ],
   "source": [
    "# Box plot of  TrainingTimesLastYear vs Attrition\n",
    "# 11\n",
    "plt.figure(figsize = (6,4))\n",
    "sns.boxplot(x = 'Attrition', y = 'TrainingTimesLastYear', data = df, palette = 'Set2')\n",
    "plt.title(\"TrainingTimesLastYear vs Attrition\")\n",
    "plt.show()"
   ]
  },
  {
   "cell_type": "code",
   "execution_count": 69,
   "id": "2f28b9f8-893b-4221-91fb-9e43063b8f30",
   "metadata": {},
   "outputs": [
    {
     "data": {
      "text/html": [
       "<div>\n",
       "<style scoped>\n",
       "    .dataframe tbody tr th:only-of-type {\n",
       "        vertical-align: middle;\n",
       "    }\n",
       "\n",
       "    .dataframe tbody tr th {\n",
       "        vertical-align: top;\n",
       "    }\n",
       "\n",
       "    .dataframe thead th {\n",
       "        text-align: right;\n",
       "    }\n",
       "</style>\n",
       "<table border=\"1\" class=\"dataframe\">\n",
       "  <thead>\n",
       "    <tr style=\"text-align: right;\">\n",
       "      <th></th>\n",
       "      <th>count</th>\n",
       "      <th>mean</th>\n",
       "      <th>std</th>\n",
       "      <th>min</th>\n",
       "      <th>25%</th>\n",
       "      <th>50%</th>\n",
       "      <th>75%</th>\n",
       "      <th>max</th>\n",
       "    </tr>\n",
       "    <tr>\n",
       "      <th>Attrition</th>\n",
       "      <th></th>\n",
       "      <th></th>\n",
       "      <th></th>\n",
       "      <th></th>\n",
       "      <th></th>\n",
       "      <th></th>\n",
       "      <th></th>\n",
       "      <th></th>\n",
       "    </tr>\n",
       "  </thead>\n",
       "  <tbody>\n",
       "    <tr>\n",
       "      <th>No</th>\n",
       "      <td>1233.0</td>\n",
       "      <td>2.781022</td>\n",
       "      <td>0.681907</td>\n",
       "      <td>1.0</td>\n",
       "      <td>2.0</td>\n",
       "      <td>3.0</td>\n",
       "      <td>3.0</td>\n",
       "      <td>4.0</td>\n",
       "    </tr>\n",
       "    <tr>\n",
       "      <th>Yes</th>\n",
       "      <td>237.0</td>\n",
       "      <td>2.658228</td>\n",
       "      <td>0.816453</td>\n",
       "      <td>1.0</td>\n",
       "      <td>2.0</td>\n",
       "      <td>3.0</td>\n",
       "      <td>3.0</td>\n",
       "      <td>4.0</td>\n",
       "    </tr>\n",
       "  </tbody>\n",
       "</table>\n",
       "</div>"
      ],
      "text/plain": [
       "            count      mean       std  min  25%  50%  75%  max\n",
       "Attrition                                                     \n",
       "No         1233.0  2.781022  0.681907  1.0  2.0  3.0  3.0  4.0\n",
       "Yes         237.0  2.658228  0.816453  1.0  2.0  3.0  3.0  4.0"
      ]
     },
     "execution_count": 69,
     "metadata": {},
     "output_type": "execute_result"
    }
   ],
   "source": [
    "#  Bivariate Analysis (Numerical vs attrition)\n",
    "# WorkLifeBalance vs Attrition\n",
    "#  12\n",
    "df.groupby('Attrition')['WorkLifeBalance'].describe()"
   ]
  },
  {
   "cell_type": "code",
   "execution_count": 70,
   "id": "8fa145c0-e05f-41a4-a3cb-9ece83bd19d3",
   "metadata": {},
   "outputs": [
    {
     "name": "stderr",
     "output_type": "stream",
     "text": [
      "C:\\Users\\DIVYA BASANTRAY\\AppData\\Local\\Temp\\ipykernel_3260\\3042262893.py:4: FutureWarning: \n",
      "\n",
      "Passing `palette` without assigning `hue` is deprecated and will be removed in v0.14.0. Assign the `x` variable to `hue` and set `legend=False` for the same effect.\n",
      "\n",
      "  sns.boxplot(x = 'Attrition', y = 'WorkLifeBalance', data = df, palette = 'Set2')\n"
     ]
    },
    {
     "ename": "TypeError",
     "evalue": "'str' object is not callable",
     "output_type": "error",
     "traceback": [
      "\u001b[31m---------------------------------------------------------------------------\u001b[39m",
      "\u001b[31mTypeError\u001b[39m                                 Traceback (most recent call last)",
      "\u001b[36mCell\u001b[39m\u001b[36m \u001b[39m\u001b[32mIn[70]\u001b[39m\u001b[32m, line 5\u001b[39m\n\u001b[32m      3\u001b[39m plt.figure(figsize = (\u001b[32m6\u001b[39m,\u001b[32m4\u001b[39m))\n\u001b[32m      4\u001b[39m sns.boxplot(x = \u001b[33m'\u001b[39m\u001b[33mAttrition\u001b[39m\u001b[33m'\u001b[39m, y = \u001b[33m'\u001b[39m\u001b[33mWorkLifeBalance\u001b[39m\u001b[33m'\u001b[39m, data = df, palette = \u001b[33m'\u001b[39m\u001b[33mSet2\u001b[39m\u001b[33m'\u001b[39m)\n\u001b[32m----> \u001b[39m\u001b[32m5\u001b[39m \u001b[43mplt\u001b[49m\u001b[43m.\u001b[49m\u001b[43mtitle\u001b[49m\u001b[43m(\u001b[49m\u001b[33;43m\"\u001b[39;49m\u001b[33;43mWorkLifeBalance vs Attrition\u001b[39;49m\u001b[33;43m\"\u001b[39;49m\u001b[43m)\u001b[49m\n\u001b[32m      6\u001b[39m plt.show()\n",
      "\u001b[31mTypeError\u001b[39m: 'str' object is not callable"
     ]
    },
    {
     "data": {
      "image/png": "[encoded data removed]",
      "text/plain": [
       "<Figure size 600x400 with 1 Axes>"
      ]
     },
     "metadata": {},
     "output_type": "display_data"
    }
   ],
   "source": [
    "# Box plot of  WorkLifeBalance vs Attrition\n",
    "# 12\n",
    "plt.figure(figsize = (6,4))\n",
    "sns.boxplot(x = 'Attrition', y = 'WorkLifeBalance', data = df, palette = 'Set2')\n",
    "plt.title(\"WorkLifeBalance vs Attrition\")\n",
    "plt.show()"
   ]
  },
  {
   "cell_type": "code",
   "execution_count": 71,
   "id": "052afddc-efd1-46e8-a4e2-d461d0eada6f",
   "metadata": {},
   "outputs": [
    {
     "data": {
      "text/html": [
       "<div>\n",
       "<style scoped>\n",
       "    .dataframe tbody tr th:only-of-type {\n",
       "        vertical-align: middle;\n",
       "    }\n",
       "\n",
       "    .dataframe tbody tr th {\n",
       "        vertical-align: top;\n",
       "    }\n",
       "\n",
       "    .dataframe thead th {\n",
       "        text-align: right;\n",
       "    }\n",
       "</style>\n",
       "<table border=\"1\" class=\"dataframe\">\n",
       "  <thead>\n",
       "    <tr style=\"text-align: right;\">\n",
       "      <th></th>\n",
       "      <th>count</th>\n",
       "      <th>mean</th>\n",
       "      <th>std</th>\n",
       "      <th>min</th>\n",
       "      <th>25%</th>\n",
       "      <th>50%</th>\n",
       "      <th>75%</th>\n",
       "      <th>max</th>\n",
       "    </tr>\n",
       "    <tr>\n",
       "      <th>Attrition</th>\n",
       "      <th></th>\n",
       "      <th></th>\n",
       "      <th></th>\n",
       "      <th></th>\n",
       "      <th></th>\n",
       "      <th></th>\n",
       "      <th></th>\n",
       "      <th></th>\n",
       "    </tr>\n",
       "  </thead>\n",
       "  <tbody>\n",
       "    <tr>\n",
       "      <th>No</th>\n",
       "      <td>1233.0</td>\n",
       "      <td>2.771290</td>\n",
       "      <td>1.071132</td>\n",
       "      <td>1.0</td>\n",
       "      <td>2.0</td>\n",
       "      <td>3.0</td>\n",
       "      <td>4.0</td>\n",
       "      <td>4.0</td>\n",
       "    </tr>\n",
       "    <tr>\n",
       "      <th>Yes</th>\n",
       "      <td>237.0</td>\n",
       "      <td>2.464135</td>\n",
       "      <td>1.169791</td>\n",
       "      <td>1.0</td>\n",
       "      <td>1.0</td>\n",
       "      <td>3.0</td>\n",
       "      <td>4.0</td>\n",
       "      <td>4.0</td>\n",
       "    </tr>\n",
       "  </tbody>\n",
       "</table>\n",
       "</div>"
      ],
      "text/plain": [
       "            count      mean       std  min  25%  50%  75%  max\n",
       "Attrition                                                     \n",
       "No         1233.0  2.771290  1.071132  1.0  2.0  3.0  4.0  4.0\n",
       "Yes         237.0  2.464135  1.169791  1.0  1.0  3.0  4.0  4.0"
      ]
     },
     "execution_count": 71,
     "metadata": {},
     "output_type": "execute_result"
    }
   ],
   "source": [
    "#  Bivariate Analysis (Numerical vs attrition)\n",
    "# EnvironmentSatisfaction vs Attrition\n",
    "#  13\n",
    "df.groupby('Attrition')['EnvironmentSatisfaction'].describe()"
   ]
  },
  {
   "cell_type": "code",
   "execution_count": 72,
   "id": "f29cf125-9c6b-4f69-9f2f-d2ba58df49bc",
   "metadata": {},
   "outputs": [
    {
     "name": "stderr",
     "output_type": "stream",
     "text": [
      "C:\\Users\\DIVYA BASANTRAY\\AppData\\Local\\Temp\\ipykernel_3260\\1956400406.py:4: FutureWarning: \n",
      "\n",
      "Passing `palette` without assigning `hue` is deprecated and will be removed in v0.14.0. Assign the `x` variable to `hue` and set `legend=False` for the same effect.\n",
      "\n",
      "  sns.boxplot(x = 'Attrition', y = 'EnvironmentSatisfaction', data = df, palette = 'Set2')\n"
     ]
    },
    {
     "ename": "TypeError",
     "evalue": "'str' object is not callable",
     "output_type": "error",
     "traceback": [
      "\u001b[31m---------------------------------------------------------------------------\u001b[39m",
      "\u001b[31mTypeError\u001b[39m                                 Traceback (most recent call last)",
      "\u001b[36mCell\u001b[39m\u001b[36m \u001b[39m\u001b[32mIn[72]\u001b[39m\u001b[32m, line 5\u001b[39m\n\u001b[32m      3\u001b[39m plt.figure(figsize = (\u001b[32m6\u001b[39m,\u001b[32m4\u001b[39m))\n\u001b[32m      4\u001b[39m sns.boxplot(x = \u001b[33m'\u001b[39m\u001b[33mAttrition\u001b[39m\u001b[33m'\u001b[39m, y = \u001b[33m'\u001b[39m\u001b[33mEnvironmentSatisfaction\u001b[39m\u001b[33m'\u001b[39m, data = df, palette = \u001b[33m'\u001b[39m\u001b[33mSet2\u001b[39m\u001b[33m'\u001b[39m)\n\u001b[32m----> \u001b[39m\u001b[32m5\u001b[39m \u001b[43mplt\u001b[49m\u001b[43m.\u001b[49m\u001b[43mtitle\u001b[49m\u001b[43m(\u001b[49m\u001b[33;43m\"\u001b[39;49m\u001b[33;43mEnvironmentSatisfaction vs Attrition\u001b[39;49m\u001b[33;43m\"\u001b[39;49m\u001b[43m)\u001b[49m\n\u001b[32m      6\u001b[39m plt.show()\n",
      "\u001b[31mTypeError\u001b[39m: 'str' object is not callable"
     ]
    },
    {
     "data": {
      "image/png": "[encoded data removed]",
      "text/plain": [
       "<Figure size 600x400 with 1 Axes>"
      ]
     },
     "metadata": {},
     "output_type": "display_data"
    }
   ],
   "source": [
    "# Box plot of  EnvironmentSatisfaction vs Attrition\n",
    "# 13\n",
    "plt.figure(figsize = (6,4))\n",
    "sns.boxplot(x = 'Attrition', y = 'EnvironmentSatisfaction', data = df, palette = 'Set2')\n",
    "plt.title(\"EnvironmentSatisfaction vs Attrition\")\n",
    "plt.show()"
   ]
  },
  {
   "cell_type": "code",
   "execution_count": 76,
   "id": "ba7cd917-5300-4e7b-a724-25a52c6edda1",
   "metadata": {},
   "outputs": [
    {
     "data": {
      "text/html": [
       "<div>\n",
       "<style scoped>\n",
       "    .dataframe tbody tr th:only-of-type {\n",
       "        vertical-align: middle;\n",
       "    }\n",
       "\n",
       "    .dataframe tbody tr th {\n",
       "        vertical-align: top;\n",
       "    }\n",
       "\n",
       "    .dataframe thead th {\n",
       "        text-align: right;\n",
       "    }\n",
       "</style>\n",
       "<table border=\"1\" class=\"dataframe\">\n",
       "  <thead>\n",
       "    <tr style=\"text-align: right;\">\n",
       "      <th></th>\n",
       "      <th>count</th>\n",
       "      <th>mean</th>\n",
       "      <th>std</th>\n",
       "      <th>min</th>\n",
       "      <th>25%</th>\n",
       "      <th>50%</th>\n",
       "      <th>75%</th>\n",
       "      <th>max</th>\n",
       "    </tr>\n",
       "    <tr>\n",
       "      <th>Attrition</th>\n",
       "      <th></th>\n",
       "      <th></th>\n",
       "      <th></th>\n",
       "      <th></th>\n",
       "      <th></th>\n",
       "      <th></th>\n",
       "      <th></th>\n",
       "      <th></th>\n",
       "    </tr>\n",
       "  </thead>\n",
       "  <tbody>\n",
       "    <tr>\n",
       "      <th>No</th>\n",
       "      <td>1233.0</td>\n",
       "      <td>2.778589</td>\n",
       "      <td>1.093277</td>\n",
       "      <td>1.0</td>\n",
       "      <td>2.0</td>\n",
       "      <td>3.0</td>\n",
       "      <td>4.0</td>\n",
       "      <td>4.0</td>\n",
       "    </tr>\n",
       "    <tr>\n",
       "      <th>Yes</th>\n",
       "      <td>237.0</td>\n",
       "      <td>2.468354</td>\n",
       "      <td>1.118058</td>\n",
       "      <td>1.0</td>\n",
       "      <td>1.0</td>\n",
       "      <td>3.0</td>\n",
       "      <td>3.0</td>\n",
       "      <td>4.0</td>\n",
       "    </tr>\n",
       "  </tbody>\n",
       "</table>\n",
       "</div>"
      ],
      "text/plain": [
       "            count      mean       std  min  25%  50%  75%  max\n",
       "Attrition                                                     \n",
       "No         1233.0  2.778589  1.093277  1.0  2.0  3.0  4.0  4.0\n",
       "Yes         237.0  2.468354  1.118058  1.0  1.0  3.0  3.0  4.0"
      ]
     },
     "execution_count": 76,
     "metadata": {},
     "output_type": "execute_result"
    }
   ],
   "source": [
    "#  Bivariate Analysis (Numerical vs attrition)\n",
    "# JobSatisfaction vs Attrition\n",
    "#  14\n",
    "df.groupby('Attrition')['JobSatisfaction'].describe()"
   ]
  },
  {
   "cell_type": "code",
   "execution_count": 75,
   "id": "64f09487-f502-41f4-93f6-569b752c19dd",
   "metadata": {},
   "outputs": [
    {
     "name": "stderr",
     "output_type": "stream",
     "text": [
      "C:\\Users\\DIVYA BASANTRAY\\AppData\\Local\\Temp\\ipykernel_3260\\3498334285.py:4: FutureWarning: \n",
      "\n",
      "Passing `palette` without assigning `hue` is deprecated and will be removed in v0.14.0. Assign the `x` variable to `hue` and set `legend=False` for the same effect.\n",
      "\n",
      "  sns.boxplot(x = 'Attrition', y = 'JobSatisfaction', data = df, palette = 'Set2')\n"
     ]
    },
    {
     "ename": "TypeError",
     "evalue": "'str' object is not callable",
     "output_type": "error",
     "traceback": [
      "\u001b[31m---------------------------------------------------------------------------\u001b[39m",
      "\u001b[31mTypeError\u001b[39m                                 Traceback (most recent call last)",
      "\u001b[36mCell\u001b[39m\u001b[36m \u001b[39m\u001b[32mIn[75]\u001b[39m\u001b[32m, line 5\u001b[39m\n\u001b[32m      3\u001b[39m plt.figure(figsize = (\u001b[32m6\u001b[39m,\u001b[32m4\u001b[39m))\n\u001b[32m      4\u001b[39m sns.boxplot(x = \u001b[33m'\u001b[39m\u001b[33mAttrition\u001b[39m\u001b[33m'\u001b[39m, y = \u001b[33m'\u001b[39m\u001b[33mJobSatisfaction\u001b[39m\u001b[33m'\u001b[39m, data = df, palette = \u001b[33m'\u001b[39m\u001b[33mSet2\u001b[39m\u001b[33m'\u001b[39m)\n\u001b[32m----> \u001b[39m\u001b[32m5\u001b[39m \u001b[43mplt\u001b[49m\u001b[43m.\u001b[49m\u001b[43mtitle\u001b[49m\u001b[43m(\u001b[49m\u001b[33;43m\"\u001b[39;49m\u001b[33;43mJobSatisfaction vs Attrition\u001b[39;49m\u001b[33;43m\"\u001b[39;49m\u001b[43m)\u001b[49m\n\u001b[32m      6\u001b[39m plt.show()\n",
      "\u001b[31mTypeError\u001b[39m: 'str' object is not callable"
     ]
    },
    {
     "data": {
      "image/png": "[encoded data removed]",
      "text/plain": [
       "<Figure size 600x400 with 1 Axes>"
      ]
     },
     "metadata": {},
     "output_type": "display_data"
    }
   ],
   "source": [
    "# Box plot of  JobSatisfaction vs Attrition\n",
    "# 14\n",
    "plt.figure(figsize = (6,4))\n",
    "sns.boxplot(x = 'Attrition', y = 'JobSatisfaction', data = df, palette = 'Set2')\n",
    "plt.title(\"JobSatisfaction vs Attrition\")\n",
    "plt.show()"
   ]
  },
  {
   "cell_type": "code",
   "execution_count": 74,
   "id": "ae218d6f-b1b5-46e7-9a29-861daec8ec73",
   "metadata": {},
   "outputs": [
    {
     "data": {
      "text/html": [
       "<div>\n",
       "<style scoped>\n",
       "    .dataframe tbody tr th:only-of-type {\n",
       "        vertical-align: middle;\n",
       "    }\n",
       "\n",
       "    .dataframe tbody tr th {\n",
       "        vertical-align: top;\n",
       "    }\n",
       "\n",
       "    .dataframe thead th {\n",
       "        text-align: right;\n",
       "    }\n",
       "</style>\n",
       "<table border=\"1\" class=\"dataframe\">\n",
       "  <thead>\n",
       "    <tr style=\"text-align: right;\">\n",
       "      <th></th>\n",
       "      <th>count</th>\n",
       "      <th>mean</th>\n",
       "      <th>std</th>\n",
       "      <th>min</th>\n",
       "      <th>25%</th>\n",
       "      <th>50%</th>\n",
       "      <th>75%</th>\n",
       "      <th>max</th>\n",
       "    </tr>\n",
       "    <tr>\n",
       "      <th>Attrition</th>\n",
       "      <th></th>\n",
       "      <th></th>\n",
       "      <th></th>\n",
       "      <th></th>\n",
       "      <th></th>\n",
       "      <th></th>\n",
       "      <th></th>\n",
       "      <th></th>\n",
       "    </tr>\n",
       "  </thead>\n",
       "  <tbody>\n",
       "    <tr>\n",
       "      <th>No</th>\n",
       "      <td>1233.0</td>\n",
       "      <td>2.733982</td>\n",
       "      <td>1.071603</td>\n",
       "      <td>1.0</td>\n",
       "      <td>2.0</td>\n",
       "      <td>3.0</td>\n",
       "      <td>4.0</td>\n",
       "      <td>4.0</td>\n",
       "    </tr>\n",
       "    <tr>\n",
       "      <th>Yes</th>\n",
       "      <td>237.0</td>\n",
       "      <td>2.599156</td>\n",
       "      <td>1.125437</td>\n",
       "      <td>1.0</td>\n",
       "      <td>2.0</td>\n",
       "      <td>3.0</td>\n",
       "      <td>4.0</td>\n",
       "      <td>4.0</td>\n",
       "    </tr>\n",
       "  </tbody>\n",
       "</table>\n",
       "</div>"
      ],
      "text/plain": [
       "            count      mean       std  min  25%  50%  75%  max\n",
       "Attrition                                                     \n",
       "No         1233.0  2.733982  1.071603  1.0  2.0  3.0  4.0  4.0\n",
       "Yes         237.0  2.599156  1.125437  1.0  2.0  3.0  4.0  4.0"
      ]
     },
     "execution_count": 74,
     "metadata": {},
     "output_type": "execute_result"
    }
   ],
   "source": [
    "#  Bivariate Analysis (Numerical vs attrition)\n",
    "# RelationshipSatisfaction vs Attrition\n",
    "#  15\n",
    "df.groupby('Attrition')['RelationshipSatisfaction'].describe()"
   ]
  },
  {
   "cell_type": "code",
   "execution_count": 73,
   "id": "49a8aad5-368b-436b-a4b6-7ff784e3ff2b",
   "metadata": {},
   "outputs": [
    {
     "name": "stderr",
     "output_type": "stream",
     "text": [
      "C:\\Users\\DIVYA BASANTRAY\\AppData\\Local\\Temp\\ipykernel_3260\\3172808575.py:4: FutureWarning: \n",
      "\n",
      "Passing `palette` without assigning `hue` is deprecated and will be removed in v0.14.0. Assign the `x` variable to `hue` and set `legend=False` for the same effect.\n",
      "\n",
      "  sns.boxplot(x = 'Attrition', y = 'RelationshipSatisfaction', data = df, palette = 'Set2')\n"
     ]
    },
    {
     "ename": "TypeError",
     "evalue": "'str' object is not callable",
     "output_type": "error",
     "traceback": [
      "\u001b[31m---------------------------------------------------------------------------\u001b[39m",
      "\u001b[31mTypeError\u001b[39m                                 Traceback (most recent call last)",
      "\u001b[36mCell\u001b[39m\u001b[36m \u001b[39m\u001b[32mIn[73]\u001b[39m\u001b[32m, line 5\u001b[39m\n\u001b[32m      3\u001b[39m plt.figure(figsize = (\u001b[32m6\u001b[39m,\u001b[32m4\u001b[39m))\n\u001b[32m      4\u001b[39m sns.boxplot(x = \u001b[33m'\u001b[39m\u001b[33mAttrition\u001b[39m\u001b[33m'\u001b[39m, y = \u001b[33m'\u001b[39m\u001b[33mRelationshipSatisfaction\u001b[39m\u001b[33m'\u001b[39m, data = df, palette = \u001b[33m'\u001b[39m\u001b[33mSet2\u001b[39m\u001b[33m'\u001b[39m)\n\u001b[32m----> \u001b[39m\u001b[32m5\u001b[39m \u001b[43mplt\u001b[49m\u001b[43m.\u001b[49m\u001b[43mtitle\u001b[49m\u001b[43m(\u001b[49m\u001b[33;43m\"\u001b[39;49m\u001b[33;43mRelationshipSatisfaction vs Attrition\u001b[39;49m\u001b[33;43m\"\u001b[39;49m\u001b[43m)\u001b[49m\n\u001b[32m      6\u001b[39m plt.show()\n",
      "\u001b[31mTypeError\u001b[39m: 'str' object is not callable"
     ]
    },
    {
     "data": {
      "image/png": "[encoded data removed]",
      "text/plain": [
       "<Figure size 600x400 with 1 Axes>"
      ]
     },
     "metadata": {},
     "output_type": "display_data"
    }
   ],
   "source": [
    "# Box plot of  RelationshipSatisfaction vs Attrition\n",
    "# 14\n",
    "plt.figure(figsize = (6,4))\n",
    "sns.boxplot(x = 'Attrition', y = 'RelationshipSatisfaction', data = df, palette = 'Set2')\n",
    "plt.title(\"RelationshipSatisfaction vs Attrition\")\n",
    "plt.show()"
   ]
  },
  {
   "cell_type": "code",
   "execution_count": 80,
   "id": "9c34cec9-6c03-4374-8e73-bb60921220f1",
   "metadata": {},
   "outputs": [
    {
     "data": {
      "text/html": [
       "<div>\n",
       "<style scoped>\n",
       "    .dataframe tbody tr th:only-of-type {\n",
       "        vertical-align: middle;\n",
       "    }\n",
       "\n",
       "    .dataframe tbody tr th {\n",
       "        vertical-align: top;\n",
       "    }\n",
       "\n",
       "    .dataframe thead th {\n",
       "        text-align: right;\n",
       "    }\n",
       "</style>\n",
       "<table border=\"1\" class=\"dataframe\">\n",
       "  <thead>\n",
       "    <tr style=\"text-align: right;\">\n",
       "      <th>Attrition</th>\n",
       "      <th>No</th>\n",
       "      <th>Yes</th>\n",
       "    </tr>\n",
       "  </thead>\n",
       "  <tbody>\n",
       "    <tr>\n",
       "      <th>Age</th>\n",
       "      <td>37.561</td>\n",
       "      <td>33.608</td>\n",
       "    </tr>\n",
       "    <tr>\n",
       "      <th>DailyRate</th>\n",
       "      <td>812.504</td>\n",
       "      <td>750.363</td>\n",
       "    </tr>\n",
       "    <tr>\n",
       "      <th>DistanceFromHome</th>\n",
       "      <td>8.916</td>\n",
       "      <td>10.633</td>\n",
       "    </tr>\n",
       "    <tr>\n",
       "      <th>Education</th>\n",
       "      <td>2.927</td>\n",
       "      <td>2.840</td>\n",
       "    </tr>\n",
       "    <tr>\n",
       "      <th>EmployeeNumber</th>\n",
       "      <td>1027.656</td>\n",
       "      <td>1010.346</td>\n",
       "    </tr>\n",
       "    <tr>\n",
       "      <th>EnvironmentSatisfaction</th>\n",
       "      <td>2.771</td>\n",
       "      <td>2.464</td>\n",
       "    </tr>\n",
       "    <tr>\n",
       "      <th>HourlyRate</th>\n",
       "      <td>65.952</td>\n",
       "      <td>65.574</td>\n",
       "    </tr>\n",
       "    <tr>\n",
       "      <th>JobInvolvement</th>\n",
       "      <td>2.770</td>\n",
       "      <td>2.519</td>\n",
       "    </tr>\n",
       "    <tr>\n",
       "      <th>JobLevel</th>\n",
       "      <td>2.146</td>\n",
       "      <td>1.637</td>\n",
       "    </tr>\n",
       "    <tr>\n",
       "      <th>JobSatisfaction</th>\n",
       "      <td>2.779</td>\n",
       "      <td>2.468</td>\n",
       "    </tr>\n",
       "    <tr>\n",
       "      <th>MonthlyIncome</th>\n",
       "      <td>6832.740</td>\n",
       "      <td>4787.093</td>\n",
       "    </tr>\n",
       "    <tr>\n",
       "      <th>MonthlyRate</th>\n",
       "      <td>14265.779</td>\n",
       "      <td>14559.308</td>\n",
       "    </tr>\n",
       "    <tr>\n",
       "      <th>NumCompaniesWorked</th>\n",
       "      <td>2.646</td>\n",
       "      <td>2.941</td>\n",
       "    </tr>\n",
       "    <tr>\n",
       "      <th>PercentSalaryHike</th>\n",
       "      <td>15.231</td>\n",
       "      <td>15.097</td>\n",
       "    </tr>\n",
       "    <tr>\n",
       "      <th>PerformanceRating</th>\n",
       "      <td>3.153</td>\n",
       "      <td>3.156</td>\n",
       "    </tr>\n",
       "    <tr>\n",
       "      <th>RelationshipSatisfaction</th>\n",
       "      <td>2.734</td>\n",
       "      <td>2.599</td>\n",
       "    </tr>\n",
       "    <tr>\n",
       "      <th>StockOptionLevel</th>\n",
       "      <td>0.845</td>\n",
       "      <td>0.527</td>\n",
       "    </tr>\n",
       "    <tr>\n",
       "      <th>TotalWorkingYears</th>\n",
       "      <td>11.863</td>\n",
       "      <td>8.245</td>\n",
       "    </tr>\n",
       "    <tr>\n",
       "      <th>TrainingTimesLastYear</th>\n",
       "      <td>2.833</td>\n",
       "      <td>2.624</td>\n",
       "    </tr>\n",
       "    <tr>\n",
       "      <th>WorkLifeBalance</th>\n",
       "      <td>2.781</td>\n",
       "      <td>2.658</td>\n",
       "    </tr>\n",
       "    <tr>\n",
       "      <th>YearsAtCompany</th>\n",
       "      <td>7.369</td>\n",
       "      <td>5.131</td>\n",
       "    </tr>\n",
       "    <tr>\n",
       "      <th>YearsInCurrentRole</th>\n",
       "      <td>4.484</td>\n",
       "      <td>2.903</td>\n",
       "    </tr>\n",
       "    <tr>\n",
       "      <th>YearsSinceLastPromotion</th>\n",
       "      <td>2.234</td>\n",
       "      <td>1.945</td>\n",
       "    </tr>\n",
       "    <tr>\n",
       "      <th>YearsWithCurrManager</th>\n",
       "      <td>4.367</td>\n",
       "      <td>2.852</td>\n",
       "    </tr>\n",
       "  </tbody>\n",
       "</table>\n",
       "</div>"
      ],
      "text/plain": [
       "Attrition                        No        Yes\n",
       "Age                          37.561     33.608\n",
       "DailyRate                   812.504    750.363\n",
       "DistanceFromHome              8.916     10.633\n",
       "Education                     2.927      2.840\n",
       "EmployeeNumber             1027.656   1010.346\n",
       "EnvironmentSatisfaction       2.771      2.464\n",
       "HourlyRate                   65.952     65.574\n",
       "JobInvolvement                2.770      2.519\n",
       "JobLevel                      2.146      1.637\n",
       "JobSatisfaction               2.779      2.468\n",
       "MonthlyIncome              6832.740   4787.093\n",
       "MonthlyRate               14265.779  14559.308\n",
       "NumCompaniesWorked            2.646      2.941\n",
       "PercentSalaryHike            15.231     15.097\n",
       "PerformanceRating             3.153      3.156\n",
       "RelationshipSatisfaction      2.734      2.599\n",
       "StockOptionLevel              0.845      0.527\n",
       "TotalWorkingYears            11.863      8.245\n",
       "TrainingTimesLastYear         2.833      2.624\n",
       "WorkLifeBalance               2.781      2.658\n",
       "YearsAtCompany                7.369      5.131\n",
       "YearsInCurrentRole            4.484      2.903\n",
       "YearsSinceLastPromotion       2.234      1.945\n",
       "YearsWithCurrManager          4.367      2.852"
      ]
     },
     "execution_count": 80,
     "metadata": {},
     "output_type": "execute_result"
    }
   ],
   "source": [
    "# 16\n",
    "# Numeric Variables vs Attrition\n",
    "numeric_cols = df.select_dtypes(include = 'number').columns\n",
    "numeric_summary = df.groupby('Attrition')[numeric_cols].mean().round(3)\n",
    "numeric_summary.T"
   ]
  },
  {
   "cell_type": "code",
   "execution_count": 81,
   "id": "1c620cce-aff0-4fe5-a1f8-26246159ab3b",
   "metadata": {},
   "outputs": [
    {
     "data": {
      "text/html": [
       "<div>\n",
       "<style scoped>\n",
       "    .dataframe tbody tr th:only-of-type {\n",
       "        vertical-align: middle;\n",
       "    }\n",
       "\n",
       "    .dataframe tbody tr th {\n",
       "        vertical-align: top;\n",
       "    }\n",
       "\n",
       "    .dataframe thead th {\n",
       "        text-align: right;\n",
       "    }\n",
       "</style>\n",
       "<table border=\"1\" class=\"dataframe\">\n",
       "  <thead>\n",
       "    <tr style=\"text-align: right;\">\n",
       "      <th>Attrition</th>\n",
       "      <th>No</th>\n",
       "      <th>Yes</th>\n",
       "    </tr>\n",
       "    <tr>\n",
       "      <th>BusinessTravel</th>\n",
       "      <th></th>\n",
       "      <th></th>\n",
       "    </tr>\n",
       "  </thead>\n",
       "  <tbody>\n",
       "    <tr>\n",
       "      <th>Non-Travel</th>\n",
       "      <td>138</td>\n",
       "      <td>12</td>\n",
       "    </tr>\n",
       "    <tr>\n",
       "      <th>Travel Frequently</th>\n",
       "      <td>208</td>\n",
       "      <td>69</td>\n",
       "    </tr>\n",
       "    <tr>\n",
       "      <th>Travel Rarely</th>\n",
       "      <td>887</td>\n",
       "      <td>156</td>\n",
       "    </tr>\n",
       "  </tbody>\n",
       "</table>\n",
       "</div>"
      ],
      "text/plain": [
       "Attrition           No  Yes\n",
       "BusinessTravel             \n",
       "Non-Travel         138   12\n",
       "Travel Frequently  208   69\n",
       "Travel Rarely      887  156"
      ]
     },
     "execution_count": 81,
     "metadata": {},
     "output_type": "execute_result"
    }
   ],
   "source": [
    "# Categorical Variables vs Attrition\n",
    "# BusinessTravel vs Attrition\n",
    "# 1\n",
    "df.groupby(['BusinessTravel', 'Attrition']).size().unstack().fillna(0)"
   ]
  },
  {
   "cell_type": "code",
   "execution_count": 82,
   "id": "63579984-a51b-41c1-a1bc-b698daaf5d86",
   "metadata": {},
   "outputs": [
    {
     "data": {
      "text/html": [
       "<div>\n",
       "<style scoped>\n",
       "    .dataframe tbody tr th:only-of-type {\n",
       "        vertical-align: middle;\n",
       "    }\n",
       "\n",
       "    .dataframe tbody tr th {\n",
       "        vertical-align: top;\n",
       "    }\n",
       "\n",
       "    .dataframe thead th {\n",
       "        text-align: right;\n",
       "    }\n",
       "</style>\n",
       "<table border=\"1\" class=\"dataframe\">\n",
       "  <thead>\n",
       "    <tr style=\"text-align: right;\">\n",
       "      <th>Attrition</th>\n",
       "      <th>No</th>\n",
       "      <th>Yes</th>\n",
       "    </tr>\n",
       "    <tr>\n",
       "      <th>Department</th>\n",
       "      <th></th>\n",
       "      <th></th>\n",
       "    </tr>\n",
       "  </thead>\n",
       "  <tbody>\n",
       "    <tr>\n",
       "      <th>Human Resources</th>\n",
       "      <td>51</td>\n",
       "      <td>12</td>\n",
       "    </tr>\n",
       "    <tr>\n",
       "      <th>Research &amp; Development</th>\n",
       "      <td>828</td>\n",
       "      <td>133</td>\n",
       "    </tr>\n",
       "    <tr>\n",
       "      <th>Sales</th>\n",
       "      <td>354</td>\n",
       "      <td>92</td>\n",
       "    </tr>\n",
       "  </tbody>\n",
       "</table>\n",
       "</div>"
      ],
      "text/plain": [
       "Attrition                No  Yes\n",
       "Department                      \n",
       "Human Resources          51   12\n",
       "Research & Development  828  133\n",
       "Sales                   354   92"
      ]
     },
     "execution_count": 82,
     "metadata": {},
     "output_type": "execute_result"
    }
   ],
   "source": [
    "# Categorical Variables vs Attrition\n",
    "# Department vs Attrition\n",
    "# 2\n",
    "df.groupby(['Department', 'Attrition']).size().unstack().fillna(0)"
   ]
  },
  {
   "cell_type": "code",
   "execution_count": 83,
   "id": "4c12177c-97e2-4577-8a3d-173aebe0ca99",
   "metadata": {},
   "outputs": [
    {
     "data": {
      "text/html": [
       "<div>\n",
       "<style scoped>\n",
       "    .dataframe tbody tr th:only-of-type {\n",
       "        vertical-align: middle;\n",
       "    }\n",
       "\n",
       "    .dataframe tbody tr th {\n",
       "        vertical-align: top;\n",
       "    }\n",
       "\n",
       "    .dataframe thead th {\n",
       "        text-align: right;\n",
       "    }\n",
       "</style>\n",
       "<table border=\"1\" class=\"dataframe\">\n",
       "  <thead>\n",
       "    <tr style=\"text-align: right;\">\n",
       "      <th>Attrition</th>\n",
       "      <th>No</th>\n",
       "      <th>Yes</th>\n",
       "    </tr>\n",
       "    <tr>\n",
       "      <th>EducationField</th>\n",
       "      <th></th>\n",
       "      <th></th>\n",
       "    </tr>\n",
       "  </thead>\n",
       "  <tbody>\n",
       "    <tr>\n",
       "      <th>Human Resources</th>\n",
       "      <td>20</td>\n",
       "      <td>7</td>\n",
       "    </tr>\n",
       "    <tr>\n",
       "      <th>Life Sciences</th>\n",
       "      <td>517</td>\n",
       "      <td>89</td>\n",
       "    </tr>\n",
       "    <tr>\n",
       "      <th>Marketing</th>\n",
       "      <td>124</td>\n",
       "      <td>35</td>\n",
       "    </tr>\n",
       "    <tr>\n",
       "      <th>Medical</th>\n",
       "      <td>401</td>\n",
       "      <td>63</td>\n",
       "    </tr>\n",
       "    <tr>\n",
       "      <th>Other</th>\n",
       "      <td>71</td>\n",
       "      <td>11</td>\n",
       "    </tr>\n",
       "    <tr>\n",
       "      <th>Technical Degree</th>\n",
       "      <td>100</td>\n",
       "      <td>32</td>\n",
       "    </tr>\n",
       "  </tbody>\n",
       "</table>\n",
       "</div>"
      ],
      "text/plain": [
       "Attrition          No  Yes\n",
       "EducationField            \n",
       "Human Resources    20    7\n",
       "Life Sciences     517   89\n",
       "Marketing         124   35\n",
       "Medical           401   63\n",
       "Other              71   11\n",
       "Technical Degree  100   32"
      ]
     },
     "execution_count": 83,
     "metadata": {},
     "output_type": "execute_result"
    }
   ],
   "source": [
    "# Categorical Variables vs Attrition\n",
    "# EducationField vs Attrition\n",
    "# 3\n",
    "df.groupby(['EducationField', 'Attrition']).size().unstack().fillna(0)"
   ]
  },
  {
   "cell_type": "code",
   "execution_count": 85,
   "id": "b12d133b-b8b4-4f9b-b2a2-c910932a48ac",
   "metadata": {},
   "outputs": [
    {
     "data": {
      "text/html": [
       "<div>\n",
       "<style scoped>\n",
       "    .dataframe tbody tr th:only-of-type {\n",
       "        vertical-align: middle;\n",
       "    }\n",
       "\n",
       "    .dataframe tbody tr th {\n",
       "        vertical-align: top;\n",
       "    }\n",
       "\n",
       "    .dataframe thead th {\n",
       "        text-align: right;\n",
       "    }\n",
       "</style>\n",
       "<table border=\"1\" class=\"dataframe\">\n",
       "  <thead>\n",
       "    <tr style=\"text-align: right;\">\n",
       "      <th>Attrition</th>\n",
       "      <th>No</th>\n",
       "      <th>Yes</th>\n",
       "    </tr>\n",
       "    <tr>\n",
       "      <th>Gender</th>\n",
       "      <th></th>\n",
       "      <th></th>\n",
       "    </tr>\n",
       "  </thead>\n",
       "  <tbody>\n",
       "    <tr>\n",
       "      <th>Female</th>\n",
       "      <td>501</td>\n",
       "      <td>87</td>\n",
       "    </tr>\n",
       "    <tr>\n",
       "      <th>Male</th>\n",
       "      <td>732</td>\n",
       "      <td>150</td>\n",
       "    </tr>\n",
       "  </tbody>\n",
       "</table>\n",
       "</div>"
      ],
      "text/plain": [
       "Attrition   No  Yes\n",
       "Gender             \n",
       "Female     501   87\n",
       "Male       732  150"
      ]
     },
     "execution_count": 85,
     "metadata": {},
     "output_type": "execute_result"
    }
   ],
   "source": [
    "# Categorical Variables vs Attrition\n",
    "# Gender vs Attrition\n",
    "# 4\n",
    "df.groupby(['Gender', 'Attrition']).size().unstack().fillna(0)"
   ]
  },
  {
   "cell_type": "code",
   "execution_count": 88,
   "id": "c6c7fbd3-e21a-46a2-82c3-51b8cde24787",
   "metadata": {},
   "outputs": [
    {
     "data": {
      "text/html": [
       "<div>\n",
       "<style scoped>\n",
       "    .dataframe tbody tr th:only-of-type {\n",
       "        vertical-align: middle;\n",
       "    }\n",
       "\n",
       "    .dataframe tbody tr th {\n",
       "        vertical-align: top;\n",
       "    }\n",
       "\n",
       "    .dataframe thead th {\n",
       "        text-align: right;\n",
       "    }\n",
       "</style>\n",
       "<table border=\"1\" class=\"dataframe\">\n",
       "  <thead>\n",
       "    <tr style=\"text-align: right;\">\n",
       "      <th>Attrition</th>\n",
       "      <th>No</th>\n",
       "      <th>Yes</th>\n",
       "    </tr>\n",
       "    <tr>\n",
       "      <th>MaritalStatus</th>\n",
       "      <th></th>\n",
       "      <th></th>\n",
       "    </tr>\n",
       "  </thead>\n",
       "  <tbody>\n",
       "    <tr>\n",
       "      <th>Divorced</th>\n",
       "      <td>294</td>\n",
       "      <td>33</td>\n",
       "    </tr>\n",
       "    <tr>\n",
       "      <th>Married</th>\n",
       "      <td>589</td>\n",
       "      <td>84</td>\n",
       "    </tr>\n",
       "    <tr>\n",
       "      <th>Single</th>\n",
       "      <td>350</td>\n",
       "      <td>120</td>\n",
       "    </tr>\n",
       "  </tbody>\n",
       "</table>\n",
       "</div>"
      ],
      "text/plain": [
       "Attrition       No  Yes\n",
       "MaritalStatus          \n",
       "Divorced       294   33\n",
       "Married        589   84\n",
       "Single         350  120"
      ]
     },
     "execution_count": 88,
     "metadata": {},
     "output_type": "execute_result"
    }
   ],
   "source": [
    "# Categorical Variables vs Attrition\n",
    "# MaritalStatus vs Attrition\n",
    "# 5\n",
    "df.groupby(['MaritalStatus', 'Attrition']).size().unstack().fillna(0)"
   ]
  },
  {
   "cell_type": "code",
   "execution_count": 87,
   "id": "ead49e76-5796-4571-8152-4c25c2954de2",
   "metadata": {},
   "outputs": [
    {
     "data": {
      "text/html": [
       "<div>\n",
       "<style scoped>\n",
       "    .dataframe tbody tr th:only-of-type {\n",
       "        vertical-align: middle;\n",
       "    }\n",
       "\n",
       "    .dataframe tbody tr th {\n",
       "        vertical-align: top;\n",
       "    }\n",
       "\n",
       "    .dataframe thead th {\n",
       "        text-align: right;\n",
       "    }\n",
       "</style>\n",
       "<table border=\"1\" class=\"dataframe\">\n",
       "  <thead>\n",
       "    <tr style=\"text-align: right;\">\n",
       "      <th>Attrition</th>\n",
       "      <th>No</th>\n",
       "      <th>Yes</th>\n",
       "    </tr>\n",
       "    <tr>\n",
       "      <th>JobRole</th>\n",
       "      <th></th>\n",
       "      <th></th>\n",
       "    </tr>\n",
       "  </thead>\n",
       "  <tbody>\n",
       "    <tr>\n",
       "      <th>Healthcare Representative</th>\n",
       "      <td>122</td>\n",
       "      <td>9</td>\n",
       "    </tr>\n",
       "    <tr>\n",
       "      <th>Human Resources</th>\n",
       "      <td>40</td>\n",
       "      <td>12</td>\n",
       "    </tr>\n",
       "    <tr>\n",
       "      <th>Laboratory Technician</th>\n",
       "      <td>197</td>\n",
       "      <td>62</td>\n",
       "    </tr>\n",
       "    <tr>\n",
       "      <th>Manager</th>\n",
       "      <td>97</td>\n",
       "      <td>5</td>\n",
       "    </tr>\n",
       "    <tr>\n",
       "      <th>Manufacturing Director</th>\n",
       "      <td>135</td>\n",
       "      <td>10</td>\n",
       "    </tr>\n",
       "    <tr>\n",
       "      <th>Research Director</th>\n",
       "      <td>78</td>\n",
       "      <td>2</td>\n",
       "    </tr>\n",
       "    <tr>\n",
       "      <th>Research Scientist</th>\n",
       "      <td>245</td>\n",
       "      <td>47</td>\n",
       "    </tr>\n",
       "    <tr>\n",
       "      <th>Sales Executive</th>\n",
       "      <td>269</td>\n",
       "      <td>57</td>\n",
       "    </tr>\n",
       "    <tr>\n",
       "      <th>Sales Representative</th>\n",
       "      <td>50</td>\n",
       "      <td>33</td>\n",
       "    </tr>\n",
       "  </tbody>\n",
       "</table>\n",
       "</div>"
      ],
      "text/plain": [
       "Attrition                   No  Yes\n",
       "JobRole                            \n",
       "Healthcare Representative  122    9\n",
       "Human Resources             40   12\n",
       "Laboratory Technician      197   62\n",
       "Manager                     97    5\n",
       "Manufacturing Director     135   10\n",
       "Research Director           78    2\n",
       "Research Scientist         245   47\n",
       "Sales Executive            269   57\n",
       "Sales Representative        50   33"
      ]
     },
     "execution_count": 87,
     "metadata": {},
     "output_type": "execute_result"
    }
   ],
   "source": [
    "# Categorical Variables vs Attrition\n",
    "# JobRole vs Attrition\n",
    "# 6\n",
    "df.groupby(['JobRole', 'Attrition']).size().unstack().fillna(0)"
   ]
  },
  {
   "cell_type": "code",
   "execution_count": 86,
   "id": "ad580acc-6de6-4f1f-95ca-8b7f9603239c",
   "metadata": {},
   "outputs": [
    {
     "data": {
      "text/html": [
       "<div>\n",
       "<style scoped>\n",
       "    .dataframe tbody tr th:only-of-type {\n",
       "        vertical-align: middle;\n",
       "    }\n",
       "\n",
       "    .dataframe tbody tr th {\n",
       "        vertical-align: top;\n",
       "    }\n",
       "\n",
       "    .dataframe thead th {\n",
       "        text-align: right;\n",
       "    }\n",
       "</style>\n",
       "<table border=\"1\" class=\"dataframe\">\n",
       "  <thead>\n",
       "    <tr style=\"text-align: right;\">\n",
       "      <th>Attrition</th>\n",
       "      <th>No</th>\n",
       "      <th>Yes</th>\n",
       "    </tr>\n",
       "    <tr>\n",
       "      <th>OverTime</th>\n",
       "      <th></th>\n",
       "      <th></th>\n",
       "    </tr>\n",
       "  </thead>\n",
       "  <tbody>\n",
       "    <tr>\n",
       "      <th>No</th>\n",
       "      <td>944</td>\n",
       "      <td>110</td>\n",
       "    </tr>\n",
       "    <tr>\n",
       "      <th>Yes</th>\n",
       "      <td>289</td>\n",
       "      <td>127</td>\n",
       "    </tr>\n",
       "  </tbody>\n",
       "</table>\n",
       "</div>"
      ],
      "text/plain": [
       "Attrition   No  Yes\n",
       "OverTime           \n",
       "No         944  110\n",
       "Yes        289  127"
      ]
     },
     "execution_count": 86,
     "metadata": {},
     "output_type": "execute_result"
    }
   ],
   "source": [
    "# Categorical Variables vs Attrition\n",
    "# OverTime vs Attrition\n",
    "# 7\n",
    "df.groupby(['OverTime', 'Attrition']).size().unstack().fillna(0)"
   ]
  },
  {
   "cell_type": "code",
   "execution_count": 91,
   "id": "2c4048c6-4714-4ccb-aef5-6e830e3233de",
   "metadata": {},
   "outputs": [
    {
     "name": "stdout",
     "output_type": "stream",
     "text": [
      "Attrition_num               1.000\n",
      "DistanceFromHome            0.078\n",
      "NumCompaniesWorked          0.043\n",
      "MonthlyRate                 0.015\n",
      "PerformanceRating           0.003\n",
      "HourlyRate                 -0.007\n",
      "EmployeeNumber             -0.011\n",
      "PercentSalaryHike          -0.013\n",
      "Education                  -0.031\n",
      "YearsSinceLastPromotion    -0.033\n",
      "RelationshipSatisfaction   -0.046\n",
      "DailyRate                  -0.057\n",
      "TrainingTimesLastYear      -0.059\n",
      "WorkLifeBalance            -0.064\n",
      "EnvironmentSatisfaction    -0.103\n",
      "JobSatisfaction            -0.103\n",
      "JobInvolvement             -0.130\n",
      "YearsAtCompany             -0.134\n",
      "StockOptionLevel           -0.137\n",
      "YearsWithCurrManager       -0.156\n",
      "Age                        -0.159\n",
      "MonthlyIncome              -0.160\n",
      "YearsInCurrentRole         -0.161\n",
      "JobLevel                   -0.169\n",
      "TotalWorkingYears          -0.171\n",
      "Name: Attrition_num, dtype: float64\n"
     ]
    }
   ],
   "source": [
    "# CORRELATION ANALYSIS\n",
    "# convert 'Attrition' column too numeric if not already:\n",
    "if 'Attrition_num' not in df.columns:\n",
    "    df['Attrition_num'] = df['Attrition'].map({'Yes': 1, 'No': 0})\n",
    "\n",
    "# Select only numeric columns\n",
    "numeric_df = df.select_dtypes(include = ['int64', 'float64'])\n",
    "\n",
    "# compute correlation matrix\n",
    "corr = numeric_df.corr()\n",
    "\n",
    "# show top correlations with Attrition\n",
    "print(corr['Attrition_num'].sort_values(ascending = False).round(3))"
   ]
  },
  {
   "cell_type": "code",
   "execution_count": null,
   "id": "fd76e23f-a9bb-4a97-be37-cc3a6d8454da",
   "metadata": {},
   "outputs": [],
   "source": []
  },
  {
   "cell_type": "code",
   "execution_count": null,
   "id": "a656efed-6444-47a2-bc5c-888a648b55e9",
   "metadata": {},
   "outputs": [],
   "source": []
  },
  {
   "cell_type": "code",
   "execution_count": null,
   "id": "1f3df78f-371a-4f89-99a1-41a589ecdae9",
   "metadata": {},
   "outputs": [],
   "source": []
  },
  {
   "cell_type": "code",
   "execution_count": null,
   "id": "a1f28556-eeaf-411e-a656-03d28aa670f9",
   "metadata": {},
   "outputs": [],
   "source": []
  }
 ],
 "metadata": {
  "kernelspec": {
   "display_name": "Python 3 (ipykernel)",
   "language": "python",
   "name": "python3"
  },
  "language_info": {
   "codemirror_mode": {
    "name": "ipython",
    "version": 3
   },
   "file_extension": ".py",
   "mimetype": "text/x-python",
   "name": "python",
   "nbconvert_exporter": "python",
   "pygments_lexer": "ipython3",
   "version": "3.13.3"
  }
 },
 "nbformat": 4,
 "nbformat_minor": 5
}
